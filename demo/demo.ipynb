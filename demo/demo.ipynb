{
 "cells": [
  {
   "cell_type": "code",
   "execution_count": 1,
   "id": "51a3cb90",
   "metadata": {},
   "outputs": [
    {
     "name": "stdout",
     "output_type": "stream",
     "text": [
      "Jupyter environment detected. Enabling Open3D WebVisualizer.\n",
      "[Open3D INFO] WebRTC GUI backend enabled.\n",
      "[Open3D INFO] WebRTCWindowSystem: HTTP handshake server disabled.\n"
     ]
    }
   ],
   "source": [
    "from utils.sampling import *\n",
    "from utils.config import cfg_from_yaml_file\n",
    "from tools import builder\n",
    "from datasets.data_transforms import ResamplePoints\n",
    "import open3d as o3d\n",
    "import numpy as np\n",
    "import glob\n",
    "from utils.vis_utils import convert_to_o3dpcd"
   ]
  },
  {
   "cell_type": "code",
   "execution_count": 5,
   "id": "fe2bff1b",
   "metadata": {},
   "outputs": [
    {
     "data": {
      "text/plain": [
       "VCN_VC(\n",
       "  (pose_encoder): Sequential(\n",
       "    (0): Conv1d(3, 64, kernel_size=(1,), stride=(1,))\n",
       "    (1): LeakyReLU(negative_slope=0.01)\n",
       "    (2): Conv1d(64, 128, kernel_size=(1,), stride=(1,))\n",
       "    (3): LeakyReLU(negative_slope=0.01)\n",
       "    (4): Conv1d(128, 1024, kernel_size=(1,), stride=(1,))\n",
       "    (5): AdaptiveMaxPool1d(output_size=1)\n",
       "  )\n",
       "  (pose_fc): Sequential(\n",
       "    (0): Linear(in_features=1024, out_features=512, bias=True)\n",
       "    (1): LeakyReLU(negative_slope=0.01)\n",
       "    (2): Linear(in_features=512, out_features=9, bias=True)\n",
       "  )\n",
       "  (encoder): FeatureEncoder(\n",
       "    (mlp_conv1): Sequential(\n",
       "      (0): Conv1d(3, 128, kernel_size=(1,), stride=(1,))\n",
       "      (1): BatchNorm1d(128, eps=1e-05, momentum=0.1, affine=True, track_running_stats=True)\n",
       "      (2): ReLU(inplace=True)\n",
       "      (3): Conv1d(128, 256, kernel_size=(1,), stride=(1,))\n",
       "    )\n",
       "    (mlp_conv2): Sequential(\n",
       "      (0): Conv1d(512, 512, kernel_size=(1,), stride=(1,))\n",
       "      (1): BatchNorm1d(512, eps=1e-05, momentum=0.1, affine=True, track_running_stats=True)\n",
       "      (2): ReLU(inplace=True)\n",
       "      (3): Conv1d(512, 1024, kernel_size=(1,), stride=(1,))\n",
       "    )\n",
       "  )\n",
       "  (shape_fc): Sequential(\n",
       "    (0): Linear(in_features=1024, out_features=1024, bias=True)\n",
       "    (1): ReLU(inplace=True)\n",
       "    (2): Linear(in_features=1024, out_features=1024, bias=True)\n",
       "    (3): ReLU(inplace=True)\n",
       "    (4): Linear(in_features=1024, out_features=3072, bias=True)\n",
       "  )\n",
       "  (final_conv): Sequential(\n",
       "    (0): Conv1d(1029, 512, kernel_size=(1,), stride=(1,))\n",
       "    (1): BatchNorm1d(512, eps=1e-05, momentum=0.1, affine=True, track_running_stats=True)\n",
       "    (2): ReLU(inplace=True)\n",
       "    (3): Conv1d(512, 512, kernel_size=(1,), stride=(1,))\n",
       "    (4): BatchNorm1d(512, eps=1e-05, momentum=0.1, affine=True, track_running_stats=True)\n",
       "    (5): ReLU(inplace=True)\n",
       "    (6): Conv1d(512, 3, kernel_size=(1,), stride=(1,))\n",
       "  )\n",
       "  (loss_coarse): ChamferDistanceL2()\n",
       "  (loss_partial): ChamferDistanceL2()\n",
       "  (loss_translation): SmoothL1Loss()\n",
       "  (loss_dims): SmoothL1Loss()\n",
       ")"
      ]
     },
     "execution_count": 5,
     "metadata": {},
     "output_type": "execute_result"
    }
   ],
   "source": [
    "import torch \n",
    "\n",
    "cfg_path = '/VCN/cfgs/VCN_models/VCN_VC.yaml'\n",
    "cfg = cfg_from_yaml_file(cfg_path)\n",
    "model = builder.model_builder(cfg.model)\n",
    "model.cuda()\n",
    "\n",
    "ckpt_path = 'model_zoo/VCN_VC.pth'\n",
    "state_dict = torch.load(ckpt_path, map_location=f'cuda:0')\n",
    "base_ckpt = {k.replace(\"module.\", \"\"): v for k, v in state_dict['base_model'].items()}\n",
    "model.load_state_dict(base_ckpt)\n",
    "\n",
    "model.eval()"
   ]
  },
  {
   "cell_type": "code",
   "execution_count": 6,
   "id": "db59c575",
   "metadata": {},
   "outputs": [],
   "source": [
    "# Read data\n",
    "pcd_dir = 'data/demo'\n",
    "pcd_data = glob.glob(pcd_dir + '/*.pcd')\n",
    "\n",
    "idx = 4\n",
    "in_pcd = o3d.io.read_point_cloud(pcd_data[idx])"
   ]
  },
  {
   "cell_type": "code",
   "execution_count": 7,
   "id": "2d1b69d5",
   "metadata": {},
   "outputs": [],
   "source": [
    "# Complete car\n",
    "\n",
    "resample = ResamplePoints({'n_points': 1024})\n",
    "\n",
    "in_dict = {}\n",
    "in_dict['input'] = torch.from_numpy(resample(np.asarray(in_pcd.points))).float().cuda().unsqueeze(0)\n",
    "ret_dict = model(in_dict)\n",
    "pred_surface = partial_with_KDTree( in_dict['input'][0], ret_dict['coarse'][0], k=20)\n",
    "output = get_largest_cluster(pred_surface.detach().cpu().numpy(), eps=0.3, min_points=1)"
   ]
  },
  {
   "cell_type": "code",
   "execution_count": 8,
   "id": "86cc8c9c",
   "metadata": {},
   "outputs": [],
   "source": [
    "# Visualize\n",
    "vis_list = []\n",
    "\n",
    "vis_list.append(convert_to_o3dpcd(in_dict['input'].squeeze(0).cpu().numpy(), [0.14, 0.34, 0.69]))\n",
    "vis_list.append(convert_to_o3dpcd(ret_dict['coarse'].squeeze(0).detach().cpu().numpy(), [0.70, 0.85, 0.94]))\n",
    "vis_list.append(convert_to_o3dpcd(output))\n",
    "\n",
    "o3d.visualization.draw_geometries(vis_list)"
   ]
  }
 ],
 "metadata": {
  "kernelspec": {
   "display_name": "Python 3 (ipykernel)",
   "language": "python",
   "name": "python3"
  },
  "language_info": {
   "codemirror_mode": {
    "name": "ipython",
    "version": 3
   },
   "file_extension": ".py",
   "mimetype": "text/x-python",
   "name": "python",
   "nbconvert_exporter": "python",
   "pygments_lexer": "ipython3",
   "version": "3.7.10"
  }
 },
 "nbformat": 4,
 "nbformat_minor": 5
}
