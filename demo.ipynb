{
 "cells": [
  {
   "cell_type": "code",
   "execution_count": 1,
   "id": "51a3cb90",
   "metadata": {},
   "outputs": [
    {
     "name": "stdout",
     "output_type": "stream",
     "text": [
      "Jupyter environment detected. Enabling Open3D WebVisualizer.\n",
      "[Open3D INFO] WebRTC GUI backend enabled.\n",
      "[Open3D INFO] WebRTCWindowSystem: HTTP handshake server disabled.\n"
     ]
    }
   ],
   "source": [
    "from utils.sampling import *\n",
    "from tools import builder\n",
    "from datasets.data_transforms import ResamplePoints\n",
    "import open3d as o3d\n",
    "import numpy as np\n",
    "import glob\n",
    "from utils.vis_utils import convert_to_o3dpcd"
   ]
  },
  {
   "cell_type": "code",
   "execution_count": 2,
   "id": "fe2bff1b",
   "metadata": {},
   "outputs": [
    {
     "data": {
      "text/plain": [
       "PCN(\n",
       "  (pose_encoder): Sequential(\n",
       "    (0): Conv1d(3, 64, kernel_size=(1,), stride=(1,))\n",
       "    (1): LeakyReLU(negative_slope=0.01)\n",
       "    (2): Conv1d(64, 128, kernel_size=(1,), stride=(1,))\n",
       "    (3): LeakyReLU(negative_slope=0.01)\n",
       "    (4): Conv1d(128, 1024, kernel_size=(1,), stride=(1,))\n",
       "    (5): AdaptiveMaxPool1d(output_size=1)\n",
       "  )\n",
       "  (pose_fc): Sequential(\n",
       "    (0): Linear(in_features=1024, out_features=512, bias=True)\n",
       "    (1): LeakyReLU(negative_slope=0.01)\n",
       "    (2): Linear(in_features=512, out_features=9, bias=True)\n",
       "  )\n",
       "  (encoder): FeatureEncoder(\n",
       "    (mlp_conv1): Sequential(\n",
       "      (0): Conv1d(3, 128, kernel_size=(1,), stride=(1,))\n",
       "      (1): BatchNorm1d(128, eps=1e-05, momentum=0.1, affine=True, track_running_stats=True)\n",
       "      (2): ReLU(inplace=True)\n",
       "      (3): Conv1d(128, 256, kernel_size=(1,), stride=(1,))\n",
       "    )\n",
       "    (mlp_conv2): Sequential(\n",
       "      (0): Conv1d(512, 512, kernel_size=(1,), stride=(1,))\n",
       "      (1): BatchNorm1d(512, eps=1e-05, momentum=0.1, affine=True, track_running_stats=True)\n",
       "      (2): ReLU(inplace=True)\n",
       "      (3): Conv1d(512, 1024, kernel_size=(1,), stride=(1,))\n",
       "    )\n",
       "  )\n",
       "  (shape_fc): Sequential(\n",
       "    (0): Linear(in_features=1024, out_features=1024, bias=True)\n",
       "    (1): ReLU(inplace=True)\n",
       "    (2): Linear(in_features=1024, out_features=1024, bias=True)\n",
       "    (3): ReLU(inplace=True)\n",
       "    (4): Linear(in_features=1024, out_features=3072, bias=True)\n",
       "  )\n",
       "  (final_conv): Sequential(\n",
       "    (0): Conv1d(1029, 512, kernel_size=(1,), stride=(1,))\n",
       "    (1): BatchNorm1d(512, eps=1e-05, momentum=0.1, affine=True, track_running_stats=True)\n",
       "    (2): ReLU(inplace=True)\n",
       "    (3): Conv1d(512, 512, kernel_size=(1,), stride=(1,))\n",
       "    (4): BatchNorm1d(512, eps=1e-05, momentum=0.1, affine=True, track_running_stats=True)\n",
       "    (5): ReLU(inplace=True)\n",
       "    (6): Conv1d(512, 3, kernel_size=(1,), stride=(1,))\n",
       "  )\n",
       "  (loss_coarse): ChamferDistanceL2()\n",
       "  (loss_partial): ChamferDistanceL2()\n",
       "  (loss_translation): SmoothL1Loss()\n",
       "  (loss_dims): SmoothL1Loss()\n",
       ")"
      ]
     },
     "execution_count": 2,
     "metadata": {},
     "output_type": "execute_result"
    }
   ],
   "source": [
    "import torch \n",
    "\n",
    "model = builder.model_builder({'NAME':'PCN'})\n",
    "model.cuda()\n",
    "\n",
    "ckpt_path = 'demo_data/R6D-E3_frustum_norm_fps_coarse_lidarsim_surface_knnmeshsurface_50ep.pth'\n",
    "state_dict = torch.load(ckpt_path, map_location=f'cuda:0')\n",
    "base_ckpt = {k.replace(\"module.\", \"\"): v for k, v in state_dict['base_model'].items()}\n",
    "model.load_state_dict(base_ckpt)\n",
    "\n",
    "model.eval()"
   ]
  },
  {
   "cell_type": "code",
   "execution_count": 6,
   "id": "db59c575",
   "metadata": {},
   "outputs": [],
   "source": [
    "pcd_dir = 'demo_data/temp'\n",
    "pcd_data = glob.glob(pcd_dir + '/*')\n",
    "idx = 6\n",
    "raw = np.fromfile(pcd_data[idx], dtype=np.float32).reshape((-1, 4))[:,:3]\n",
    "dbpcd = convert_to_o3dpcd(raw)\n",
    "o3d.visualization.draw_geometries([dbpcd])"
   ]
  },
  {
   "cell_type": "code",
   "execution_count": 7,
   "id": "2d1b69d5",
   "metadata": {},
   "outputs": [],
   "source": [
    "eps = 0.7\n",
    "# dist = np.linalg.norm(np.mean(inpc, axis=0))\n",
    "labels = np.array(dbpcd.cluster_dbscan(eps=eps, min_points=3, print_progress=False))\n",
    "y = np.bincount(labels[labels >= 0])\n",
    "if len(y) != 0:\n",
    "    value = np.argmax(y)\n",
    "    most_points = np.argwhere(labels == value)\n",
    "    f_pcd = dbpcd.select_by_index(most_points)\n",
    "    \n",
    "inpc = np.asarray(f_pcd.points)\n",
    "resample = ResamplePoints({'n_points': 1024})\n",
    "\n",
    "in_dict = {}\n",
    "in_dict['input'] = torch.from_numpy(resample(inpc)).float().cuda().unsqueeze(0)\n",
    "\n",
    "ret_dict = model(in_dict)\n",
    "pred_surface = get_partial_mesh( in_dict['input'].squeeze(0), ret_dict['coarse'].squeeze(0), k=30)\n",
    "output = get_largest_cluster(pred_surface, eps=0.4, min_points=1)"
   ]
  },
  {
   "cell_type": "code",
   "execution_count": null,
   "id": "86cc8c9c",
   "metadata": {},
   "outputs": [],
   "source": [
    "vis_list = []\n",
    "\n",
    "vis_list.append(convert_to_o3dpcd(in_dict['input'].squeeze(0).cpu().numpy(), [0.14, 0.34, 0.69]))\n",
    "vis_list.append(convert_to_o3dpcd(ret_dict['coarse'].squeeze(0).detach().cpu().numpy(), [0.70, 0.85, 0.94]))\n",
    "vis_list.append(convert_to_o3dpcd(output.detach().cpu().numpy()))\n",
    "\n",
    "o3d.visualization.draw_geometries(vis_list)"
   ]
  },
  {
   "cell_type": "code",
   "execution_count": 4,
   "id": "94cbd149",
   "metadata": {},
   "outputs": [
    {
     "name": "stdout",
     "output_type": "stream",
     "text": [
      "Num input pts:  91\n"
     ]
    }
   ],
   "source": [
    "pcd_dir = 'demo_data'\n",
    "pcd_data = glob.glob(pcd_dir + '/*')\n",
    "idx = 0\n",
    "\n",
    "inpc = np.asarray(o3d.io.read_point_cloud(pcd_data[idx]).points)\n",
    "resample = ResamplePoints({'n_points': 1024})\n",
    "print('Num input pts: ', inpc.shape[0])\n",
    "\n",
    "in_dict = {}\n",
    "in_dict['input'] = torch.from_numpy(resample(inpc)).float().cuda().unsqueeze(0)\n",
    "\n",
    "ret_dict = model(in_dict)\n",
    "pred_surface = get_partial_mesh( in_dict['input'].squeeze(0), ret_dict['coarse'].squeeze(0), k=30)\n",
    "output = get_largest_cluster(pred_surface, eps=0.4, min_points=1)"
   ]
  },
  {
   "cell_type": "code",
   "execution_count": null,
   "id": "ee901a2f",
   "metadata": {},
   "outputs": [],
   "source": []
  },
  {
   "cell_type": "code",
   "execution_count": null,
   "id": "0ab036a3",
   "metadata": {},
   "outputs": [],
   "source": []
  }
 ],
 "metadata": {
  "kernelspec": {
   "display_name": "Python 3 (ipykernel)",
   "language": "python",
   "name": "python3"
  },
  "language_info": {
   "codemirror_mode": {
    "name": "ipython",
    "version": 3
   },
   "file_extension": ".py",
   "mimetype": "text/x-python",
   "name": "python",
   "nbconvert_exporter": "python",
   "pygments_lexer": "ipython3",
   "version": "3.7.10"
  }
 },
 "nbformat": 4,
 "nbformat_minor": 5
}
