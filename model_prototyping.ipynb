{
 "cells": [
  {
   "cell_type": "code",
   "execution_count": 1,
   "id": "7291c131",
   "metadata": {},
   "outputs": [
    {
     "name": "stdout",
     "output_type": "stream",
     "text": [
      "Jupyter environment detected. Enabling Open3D WebVisualizer.\n",
      "[Open3D INFO] WebRTC GUI backend enabled.\n",
      "[Open3D INFO] WebRTCWindowSystem: HTTP handshake server disabled.\n"
     ]
    }
   ],
   "source": [
    "from utils import misc\n",
    "import yaml\n",
    "from easydict import EasyDict\n",
    "from datasets import build_dataset_from_cfg\n",
    "import csv\n",
    "import numpy as np\n",
    "import glob\n",
    "import open3d as o3d\n",
    "from PIL import Image\n",
    "\n",
    "def convert_to_o3dpcd(points, colour=None):\n",
    "    if type(points) == list:\n",
    "        pcds = []\n",
    "        for pointcloud in points:\n",
    "            pcd = o3d.geometry.PointCloud()\n",
    "            pcd.points = o3d.utility.Vector3dVector(pointcloud[:,:3])\n",
    "            pcds.append(pcd)\n",
    "        return pcds\n",
    "    else:\n",
    "        pcd = o3d.geometry.PointCloud()\n",
    "        pcd.points = o3d.utility.Vector3dVector(points[:,:3])\n",
    "        if colour:\n",
    "            pcd.paint_uniform_color(np.array(colour))\n",
    "        return pcd\n",
    "    \n",
    "def boxpts_to_o3dbox(boxpts, color=[1,0,0]):\n",
    "    o3dpts = o3d.utility.Vector3dVector(boxpts)\n",
    "    o3dbox = o3d.geometry.OrientedBoundingBox().create_from_points(o3dpts)\n",
    "    o3dbox.color = np.array(color)\n",
    "    return o3dbox\n",
    "\n",
    "def opd_to_boxpts(box):\n",
    "    \"\"\"\n",
    "    Takes an array containing [x,y,z,l,w,h,r], and returns an [8, 3] matrix that \n",
    "    represents the [x, y, z] for each 8 corners of the box.\n",
    "    \n",
    "    Note: Openpcdet __getitem__ gt_boxes are in the format [x,y,z,l,w,h,r,alpha]\n",
    "    where alpha is \"observation angle of object, ranging [-pi..pi]\"\n",
    "    \"\"\"\n",
    "    # To return\n",
    "    corner_boxes = np.zeros((8, 3))\n",
    "\n",
    "    translation = box[0:3]\n",
    "    l, w, h = box[3], box[4], box[5] # waymo, nusc, kitti is all l,w,h after OpenPCDet processing\n",
    "    rotation = box[6]\n",
    "\n",
    "    # Create a bounding box outline\n",
    "    bounding_box = np.array([[l/2, w/2, h/2],\n",
    "                             [l/2, -w/2, h/2],\n",
    "                             [-l/2, w/2, h/2],\n",
    "                             [-l/2, -w/2, h/2],\n",
    "                             [l/2, w/2, -h/2],\n",
    "                             [l/2, -w/2, -h/2],\n",
    "                             [-l/2, w/2, -h/2],\n",
    "                             [-l/2, -w/2, -h/2]])\n",
    "\n",
    "    # Standard 3x3 rotation matrix around the Z axis\n",
    "    rotation_matrix = np.array([\n",
    "        [np.cos(rotation), np.sin(rotation), 0.0],\n",
    "        [-np.sin(rotation), np.cos(rotation), 0.0],\n",
    "        [0.0, 0.0, 1.0]])\n",
    "    vcbox = bounding_box @ rotation_matrix\n",
    "    vcbox += box[:3]\n",
    "    \n",
    "    return vcbox\n",
    "\n",
    "def merge_new_config(config, new_config):\n",
    "    for key, val in new_config.items():\n",
    "        if not isinstance(val, dict):\n",
    "            if key == '_base_':\n",
    "                with open(new_config['_base_'], 'r') as f:\n",
    "                    try:\n",
    "                        val = yaml.load(f, Loader=yaml.FullLoader)\n",
    "                    except:\n",
    "                        val = yaml.load(f)\n",
    "                config[key] = EasyDict()\n",
    "                merge_new_config(config[key], val)\n",
    "            else:\n",
    "                config[key] = val\n",
    "                continue\n",
    "        if key not in config:\n",
    "            config[key] = EasyDict()\n",
    "        merge_new_config(config[key], val)\n",
    "    return config\n",
    "\n",
    "def cfg_from_yaml_file(cfg_file):\n",
    "    config = EasyDict()\n",
    "    with open(cfg_file, 'r') as f:\n",
    "        try:\n",
    "            new_config = yaml.load(f, Loader=yaml.FullLoader)\n",
    "        except:\n",
    "            new_config = yaml.load(f)\n",
    "    merge_new_config(config=config, new_config=new_config)        \n",
    "    return config"
   ]
  },
  {
   "cell_type": "markdown",
   "id": "4470934c",
   "metadata": {},
   "source": [
    "# PROTOTYPE - FIXED INPUT"
   ]
  },
  {
   "cell_type": "code",
   "execution_count": 2,
   "id": "a7ee1fdf",
   "metadata": {},
   "outputs": [],
   "source": [
    "import sys\n",
    "sys.path.append('/pointr/models')\n",
    "import torch\n",
    "import torch.nn as nn\n",
    "from utils import misc\n",
    "from extensions.chamfer_dist import ChamferDistanceL2\n",
    "from utils.transform import rot_from_heading, rotate_points_along_z\n",
    "from utils.losses import geodesic_distance\n",
    "from utils.bbox_utils import get_dims, get_bbox_from_keypoints\n",
    "from utils.sampling import get_partial_mesh_batch\n",
    "\n",
    "def normalize_vector( v, return_mag =False):\n",
    "    batch=v.shape[0]\n",
    "    v_mag = torch.sqrt(v.pow(2).sum(1))# batch\n",
    "    v_mag = torch.max(v_mag, torch.autograd.Variable(torch.FloatTensor([1e-8]).cuda()))\n",
    "    v_mag = v_mag.view(batch,1).expand(batch,v.shape[1])\n",
    "    v = v/v_mag\n",
    "    if(return_mag==True):\n",
    "        return v, v_mag[:,0]\n",
    "    else:\n",
    "        return v\n",
    "\n",
    "# u, v batch*n\n",
    "def cross_product( u, v):\n",
    "    batch = u.shape[0]\n",
    "    #print (u.shape)\n",
    "    #print (v.shape)\n",
    "    i = u[:,1]*v[:,2] - u[:,2]*v[:,1]\n",
    "    j = u[:,2]*v[:,0] - u[:,0]*v[:,2]\n",
    "    k = u[:,0]*v[:,1] - u[:,1]*v[:,0]\n",
    "        \n",
    "    out = torch.cat((i.view(batch,1), j.view(batch,1), k.view(batch,1)),1)#batch*3\n",
    "        \n",
    "    return out\n",
    "\n",
    "def compute_rotation_matrix_from_ortho6d(ortho6d):\n",
    "    x_raw = ortho6d[:,0:3]#batch*3\n",
    "    y_raw = ortho6d[:,3:6]#batch*3\n",
    "        \n",
    "    x = normalize_vector(x_raw) #batch*3\n",
    "    z = cross_product(x,y_raw) #batch*3\n",
    "    z = normalize_vector(z)#batch*3\n",
    "    y = cross_product(z,x)#batch*3\n",
    "        \n",
    "    x = x.view(-1,3,1)\n",
    "    y = y.view(-1,3,1)\n",
    "    z = z.view(-1,3,1)\n",
    "    matrix = torch.cat((x,y,z), 2) #batch*3*3\n",
    "    return matrix\n",
    "\n",
    "def conv_layers(layer_dims, last_as_conv=False):\n",
    "    \n",
    "    in_channels = layer_dims[0]\n",
    "    conv_layers = []\n",
    "    for out_channel in layer_dims[1:]:\n",
    "        if out_channel == layer_dims[-1] and last_as_conv:\n",
    "            conv_layers.append(nn.Conv1d(in_channels, out_channel, kernel_size=1))\n",
    "            break\n",
    "            \n",
    "        conv_layers += [nn.Conv1d(in_channels, out_channel, kernel_size=1),\n",
    "                        nn.BatchNorm1d(out_channel),\n",
    "                        nn.ReLU()]\n",
    "        in_channels = out_channel\n",
    "    return nn.Sequential(*conv_layers)\n",
    "\n",
    "def fc_layers(layer_dims, last_as_linear=True):\n",
    "    \n",
    "    in_channels = layer_dims[0]\n",
    "    layers = []\n",
    "    for out_channel in layer_dims[1:]:\n",
    "        if out_channel == layer_dims[-1] and last_as_linear:\n",
    "            layers.append(nn.Linear(in_channels,out_channel))\n",
    "            break\n",
    "            \n",
    "        layers += [nn.Linear(in_channels,out_channel),\n",
    "                    nn.ReLU(inplace=True)]\n",
    "        in_channels = out_channel            \n",
    "        \n",
    "    return nn.Sequential(*layers)\n",
    "\n",
    "class FeatureEncoder(nn.Module):\n",
    "    def __init__(self, dims):\n",
    "        super(FeatureEncoder, self).__init__()\n",
    "        # 3, 64, 128, 256, 256, 512\n",
    "        self.mlp_conv1 = nn.Sequential(\n",
    "            nn.Conv1d(dims[0],dims[1],1),\n",
    "            nn.BatchNorm1d(dims[1]),\n",
    "            nn.ReLU(inplace=True),\n",
    "            nn.Conv1d(dims[1],dims[2],1)\n",
    "        )\n",
    "        self.mlp_conv2 = nn.Sequential(\n",
    "            nn.Conv1d(dims[3],dims[4],1),\n",
    "            nn.BatchNorm1d(dims[4]),\n",
    "            nn.ReLU(inplace=True),\n",
    "            nn.Conv1d(dims[4],dims[5],1)\n",
    "        )\n",
    "    def forward(self, x, n, keepdims=False):\n",
    "        # Pytorch is (B,C,N) format\n",
    "\n",
    "        feature = self.mlp_conv1(x)  # B 256 n\n",
    "        feature_global = torch.max(feature,dim=2,keepdim=True)[0]  # B 256 1\n",
    "        feature = torch.cat([feature_global.expand(-1,-1,n), feature], dim=1)# B 512 n\n",
    "        feature = self.mlp_conv2(feature) # B 1024 n\n",
    "        feature_global = torch.max(feature,dim=2,keepdim=keepdims)[0]\n",
    "        \n",
    "        return feature_global\n",
    "\n",
    "class PartialSC_VC(nn.Module):\n",
    "    def __init__(self, config):\n",
    "        super().__init__()\n",
    "        self.sel_k = 30 # select nearest 30 points to each input point\n",
    "        \n",
    "        self.number_coarse = 1024\n",
    "        self.pose_encoder = nn.Sequential(\n",
    "            nn.Conv1d(3,64,1),            \n",
    "            nn.LeakyReLU(),\n",
    "            nn.Conv1d(64,128,1),\n",
    "            nn.LeakyReLU(),\n",
    "            nn.Conv1d(128,1024,1),\n",
    "            nn.AdaptiveMaxPool1d(output_size=1)\n",
    "        )\n",
    "        self.pose_fc = nn.Sequential(\n",
    "            nn.Linear(1024, 512),\n",
    "            nn.LeakyReLU(),\n",
    "            nn.Linear(512, 9)            \n",
    "        )\n",
    "\n",
    "        self.encoder = FeatureEncoder([3, 128, 256, 512, 512, self.number_coarse])\n",
    "        self.shape_fc = fc_layers([1024, 1024, 1024, 3*self.number_coarse], last_as_linear=True) # canonical shape\n",
    "        \n",
    "        self.final_conv = nn.Sequential(\n",
    "            nn.Conv1d(1024+3+2,512,1),\n",
    "            nn.BatchNorm1d(512),\n",
    "            nn.ReLU(inplace=True),\n",
    "            nn.Conv1d(512,512,1),\n",
    "            nn.BatchNorm1d(512),\n",
    "            nn.ReLU(inplace=True),\n",
    "            nn.Conv1d(512,3,1)\n",
    "        )\n",
    "        \n",
    "        self.build_loss_func()\n",
    "\n",
    "    def build_loss_func(self):\n",
    "        self.loss_coarse = ChamferDistanceL2()\n",
    "        self.loss_partial = ChamferDistanceL2()\n",
    "        self.loss_translation = nn.SmoothL1Loss(reduction='none')\n",
    "        self.loss_dims = nn.SmoothL1Loss(reduction='none')    \n",
    "\n",
    "    def get_loss(self, ret_dict, in_dict):     \n",
    "        gt_boxes = in_dict['gt_boxes']\n",
    "\n",
    "        loss_dict = {}        \n",
    "        pred_box = get_bbox_from_keypoints(ret_dict['coarse'], gt_boxes) # B 7        \n",
    "        loss_dict['dims'] = self.loss_dims(gt_boxes[:,3:6].cuda(), pred_box[:,3:6]).mean()\n",
    "\n",
    "        # Translation loss\n",
    "        gt_centres = gt_boxes[:,:3]\n",
    "        loss_dict['translation'] = self.loss_translation(gt_centres.cuda(), ret_dict['reg_centre']).mean()\n",
    "        \n",
    "        # Rotation loss\n",
    "        gt_headings = gt_boxes[:,-1]\n",
    "        gt_rmats = rot_from_heading(gt_headings)\n",
    "        theta = geodesic_distance(ret_dict['reg_rot'], gt_rmats)\n",
    "        loss_dict['rotation'] = theta.mean()\n",
    "\n",
    "        # Coarse loss - downsample complete with fps\n",
    "        if in_dict['training']:\n",
    "            ds_complete = misc.fps(in_dict['complete'], ret_dict['coarse'].shape[1])\n",
    "            loss_dict['coarse'] = self.loss_coarse(ret_dict['coarse'], ds_complete)            \n",
    "\n",
    "            pred_surface = get_partial_mesh_batch( in_dict['input'], ret_dict['coarse'], k=self.sel_k)\n",
    "            gt_surface = get_partial_mesh_batch( in_dict['input'], ds_complete, k=self.sel_k)\n",
    "            loss_dict['partial'] = self.loss_partial(pred_surface, gt_surface)                        \n",
    "\n",
    "        return loss_dict\n",
    "\n",
    "    def forward(self, in_dict):\n",
    "        ret = {}\n",
    "\n",
    "        bs , n , _ = in_dict['input'].shape\n",
    "        pc = in_dict['input']\n",
    "    \n",
    "        # Frustum angle is anti-clockwise about x axis (since +y is to the left, following RHS convention)\n",
    "        frustum_angle = torch.atan2(in_dict['input'][:,:,1].mean(dim=1), in_dict['input'][:,:,0].mean(dim=1))\n",
    "        pc_fview = rotate_points_along_z(in_dict['input'], -frustum_angle)\n",
    "    \n",
    "        # Centre pointcloud on mean of the points\n",
    "        pts_mean = pc_fview.mean(dim=1).unsqueeze(1)\n",
    "        pts_meancentered = pc_fview - pts_mean\n",
    "    \n",
    "        # Regress the relative pose\n",
    "        pose_feat = self.pose_encoder(pts_meancentered.permute(0,2,1)).view(bs, -1)  # B 256 n\n",
    "        rel_pose = self.pose_fc(pose_feat)\n",
    "        trans = rel_pose[:,:3].unsqueeze(1) # B 1 3\n",
    "        centre = pts_mean + trans\n",
    "        rot6d = rel_pose[:,3:9]\n",
    "        rot_mat = compute_rotation_matrix_from_ortho6d(rot6d)     \n",
    "        \n",
    "        pc_cn = torch.matmul(pc_fview - centre, rot_mat.permute(0,2,1))     \n",
    "    \n",
    "        # encoder\n",
    "        feature_global = self.encoder(pc_cn.permute(0,2,1), n)  # B 1024\n",
    "        coarse = self.shape_fc(feature_global).reshape(-1,self.number_coarse,3) # B coarse_pts 3            \n",
    "        coarse_vc = torch.matmul(coarse, rot_mat) + centre\n",
    "        \n",
    "        # Bring points back to sensor view\n",
    "        ret['coarse'] = rotate_points_along_z(coarse_vc.contiguous(), frustum_angle)\n",
    "        \n",
    "        # Bring regressed frustum view rotation/centroid to sensor view rotation/centroid\n",
    "        ret['reg_rot'] = torch.matmul(rot_mat, rot_from_heading(frustum_angle))\n",
    "        ret['reg_centre'] = rotate_points_along_z(centre, frustum_angle).squeeze(1)\n",
    "                \n",
    "        return ret"
   ]
  },
  {
   "cell_type": "code",
   "execution_count": 3,
   "id": "9e460e17",
   "metadata": {},
   "outputs": [
    {
     "name": "stderr",
     "output_type": "stream",
     "text": [
      "2022-08-19 00:30:42,093 - VC_DATASET - INFO - Complete collecting files for val. Total views: 1360\n",
      "  0%|                                                        | 0/85 [00:00<?, ?it/s]"
     ]
    },
    {
     "name": "stdout",
     "output_type": "stream",
     "text": [
      "1\n"
     ]
    },
    {
     "name": "stderr",
     "output_type": "stream",
     "text": [
      "  0%|                                                        | 0/85 [00:01<?, ?it/s]\n"
     ]
    }
   ],
   "source": [
    "from tqdm import tqdm\n",
    "\n",
    "device=1\n",
    "torch.cuda.set_device(device) # set to gpu 1080 whenever .cuda() is used\n",
    "\n",
    "cfg_file = '/PoinTr/cfgs/VC_models/PCN.yaml'\n",
    "config = cfg_from_yaml_file(cfg_file)\n",
    "\n",
    "data_subset = config.dataset.val\n",
    "data_subset.others.num_inputs = 1\n",
    "# data_subset._base_.USE_NVIEWS_PER_MODEL = 1\n",
    "\n",
    "dataset = build_dataset_from_cfg(data_subset._base_, data_subset.others)\n",
    "print(dataset.num_inputs)\n",
    "\n",
    "if data_subset._base_.NAME in ['VC','KITTI']:\n",
    "    if data_subset.others.fixed_input:\n",
    "        collate_fn = dataset.collate_fixed_input\n",
    "    else:            \n",
    "        collate_fn = dataset.collate_variable_input\n",
    "else:\n",
    "    collate_fn=None\n",
    "\n",
    "sampler = None\n",
    "dataloader = torch.utils.data.DataLoader(dataset, batch_size=16,\n",
    "                                        shuffle = False, \n",
    "                                        drop_last = False,\n",
    "                                        num_workers = 0,\n",
    "                                        worker_init_fn=misc.worker_init_fn,\n",
    "                                        collate_fn=collate_fn)\n",
    "for idx, (taxonomy_ids, model_ids, data) in tqdm(enumerate(dataloader), total=len(dataloader)):        \n",
    "    label = data[2]\n",
    "    in_dict = {}    \n",
    "    if isinstance(data[0], list):\n",
    "        print('using siamese setup')\n",
    "        num_inputs = len(data[0])\n",
    "        for i in range(num_inputs):\n",
    "            in_dict[f'input_{i}'] = data[0][i].cuda()\n",
    "            in_dict[f'complete_{i}'] = data[1][i].cuda()\n",
    "            in_dict[f'gt_boxes_{i}'] = label[i]['gt_boxes'].cuda()\n",
    "            in_dict[f'num_pts_{i}'] = label[i]['num_pts']\n",
    "    else:\n",
    "        in_dict['input'] = data[0].cuda()\n",
    "        in_dict['gt_boxes'] = label['gt_boxes'].cuda() \n",
    "        in_dict['num_pts'] = label['num_pts']\n",
    "        in_dict['complete'] = data[1].cuda()\n",
    "        \n",
    "    in_dict['training'] = True   \n",
    "    break"
   ]
  },
  {
   "cell_type": "code",
   "execution_count": 46,
   "id": "3b086fb9",
   "metadata": {},
   "outputs": [
    {
     "name": "stdout",
     "output_type": "stream",
     "text": [
      "0.005746603012084961\n"
     ]
    }
   ],
   "source": [
    "# npts = list(np.random.randint(50,2048, 1))\n",
    "# sim_data = torch.rand(1,sum(npts),3).cuda()\n",
    "# print(f'input shape = {sim_data.shape}')\n",
    "    \n",
    "# For final model, do some tweaking\n",
    "# - test adding dropout to prevent overfitting\n",
    "    \n",
    "model = PartialSC_VC(config)\n",
    "\n",
    "ckpt_path = '/PoinTr/PartialSC_VC.pth'\n",
    "if ckpt_path:    \n",
    "    state_dict = torch.load(ckpt_path, map_location=f'cuda:{device}')\n",
    "    base_ckpt = {k.replace(\"module.\", \"\"): v for k, v in state_dict['base_model'].items()}\n",
    "    model.load_state_dict(base_ckpt)\n",
    "    model.to(device)    \n",
    "\n",
    "model.eval()\n",
    "\n",
    "model = model.cuda()\n",
    "\n",
    "import time\n",
    "t0 = time.time()\n",
    "ret = model(in_dict)\n",
    "print(time.time() - t0)\n",
    "# ret"
   ]
  },
  {
   "cell_type": "code",
   "execution_count": 5,
   "id": "9639d530",
   "metadata": {},
   "outputs": [
    {
     "data": {
      "text/plain": [
       "{'dims': tensor(0.0318, device='cuda:1', grad_fn=<MeanBackward0>),\n",
       " 'translation': tensor(0.0070, device='cuda:1', grad_fn=<MeanBackward0>),\n",
       " 'rotation': tensor(0.4022, device='cuda:1', grad_fn=<MeanBackward0>),\n",
       " 'coarse': tensor(0.0279, device='cuda:1', grad_fn=<AddBackward0>),\n",
       " 'partial': tensor(0.0173, device='cuda:1', grad_fn=<AddBackward0>)}"
      ]
     },
     "execution_count": 5,
     "metadata": {},
     "output_type": "execute_result"
    }
   ],
   "source": [
    "model.get_loss(ret, in_dict)"
   ]
  },
  {
   "cell_type": "markdown",
   "id": "26e91874",
   "metadata": {},
   "source": [
    "# Visualize"
   ]
  },
  {
   "cell_type": "code",
   "execution_count": 6,
   "id": "feab5bfb",
   "metadata": {},
   "outputs": [],
   "source": [
    "def get_partial_mesh(partial_pc, complete_pc, k=30, surface_pts=1024):\n",
    "    \"\"\"\n",
    "    For each point in the partial pc, we find the k nearest points in \n",
    "    the complete pc to keep. We take a set of all the points so there\n",
    "    are no duplicates. \n",
    "\n",
    "    partial_pc (torch N 3): Input sparse point cloud \n",
    "    complete_pc (torch N 3): Dense complete surface/ coarse prediction\n",
    "    k (int): Number of nearest points to sample\n",
    "\n",
    "    Returns pc (N 3)\n",
    "\n",
    "    \"\"\"\n",
    "    assert len(partial_pc.shape) == 2, f'partial_pc shape is {partial_pc.shape}, must have shape (1024,3)'\n",
    "    surface_idx = []\n",
    "    partial_pc = torch.unique(partial_pc, dim=0)\n",
    "    for i in range(len(partial_pc)):\n",
    "        dist = torch.norm(complete_pc - partial_pc[i], dim=1, p=None)\n",
    "        knn = dist.topk(k, largest=False)\n",
    "        surface_idx.extend(knn[1].cpu().numpy())\n",
    "        \n",
    "    surface_idx = torch.tensor(list(set(surface_idx))).to(complete_pc.get_device())\n",
    "    sel_complete = torch.index_select(complete_pc, dim=0, index=surface_idx)\n",
    "    repeat_factor = int(np.ceil(surface_pts/sel_complete.shape[0]))\n",
    "    sel_sampled = sel_complete.repeat(repeat_factor, 1)[:surface_pts,:]\n",
    "    return sel_sampled\n",
    "\n",
    "from scipy.spatial import cKDTree\n",
    "def partial_with_KDTree(partial_pc, complete_pc, k, surface_pts=1024):\n",
    "    \"\"\"\n",
    "    Same function but faster than get_partial_mesh, since it uses KDTree\n",
    "\n",
    "    partial_pc (numpy N 3): Input sparse point cloud \n",
    "    complete_pc (numpy N 3): Dense complete surface/ coarse prediction\n",
    "    k (int): Number of nearest points to sample\n",
    "\n",
    "    Returns pc (N 3)\n",
    "\n",
    "    \"\"\"\n",
    "    assert len(partial_pc.shape) == 2, f'partial_pc shape is {partial_pc.shape}, must have shape (1024,3)'\n",
    "    if partial_pc.requires_grad:\n",
    "        partial_pc = partial_pc.detach()\n",
    "    if isinstance(partial_pc, torch.Tensor):\n",
    "        partial_pc = partial_pc.cpu().numpy()\n",
    "    if complete_pc.requires_grad:\n",
    "        complete_pc = complete_pc.detach()\n",
    "    if isinstance(complete_pc, torch.Tensor):\n",
    "        complete_pc = complete_pc.cpu().numpy()\n",
    "\n",
    "    surface_idx = []\n",
    "    kd = cKDTree(complete_pc)\n",
    "    partial_pc = np.unique(partial_pc, axis=0)\n",
    "    for i in range(len(partial_pc)):\n",
    "        knn_idx = kd.query(partial_pc[i], k=k)[1]\n",
    "        surface_idx.extend(knn_idx)\n",
    "    \n",
    "    surface_idx = list(set(surface_idx))\n",
    "    sel_complete = complete_pc[surface_idx]\n",
    "    repeat_factor = int(np.ceil(surface_pts/sel_complete.shape[0]))    \n",
    "    sel_sampled = np.tile(sel_complete, [surface_pts, 1])[:surface_pts,:]\n",
    "    \n",
    "    return sel_sampled"
   ]
  },
  {
   "cell_type": "code",
   "execution_count": 10,
   "id": "232a8632",
   "metadata": {},
   "outputs": [],
   "source": [
    "sel_idx = 0\n",
    "pc_np = ret['coarse'][sel_idx].detach().cpu().numpy()\n",
    "sel_sampled = partial_with_KDTree(in_dict['input'][sel_idx].cpu().numpy(), pc_np)"
   ]
  },
  {
   "cell_type": "code",
   "execution_count": null,
   "id": "95d08a23",
   "metadata": {},
   "outputs": [],
   "source": [
    "import open3d as o3d\n",
    "\n",
    "out_coarse = ret['coarse'].detach().cpu().numpy()\n",
    "sel_idx = 0\n",
    "\n",
    "pc = out_coarse[sel_idx]\n",
    "o3d.visualization.draw_geometries([convert_to_o3dpcd(sel_sampled)])"
   ]
  },
  {
   "cell_type": "code",
   "execution_count": 7,
   "id": "9a35b360",
   "metadata": {},
   "outputs": [
    {
     "data": {
      "text/plain": [
       "torch.Size([16, 1024, 3])"
      ]
     },
     "execution_count": 7,
     "metadata": {},
     "output_type": "execute_result"
    }
   ],
   "source": [
    "in_dict['input'].shape"
   ]
  },
  {
   "cell_type": "code",
   "execution_count": 17,
   "id": "be8c084b",
   "metadata": {},
   "outputs": [
    {
     "name": "stdout",
     "output_type": "stream",
     "text": [
      "8.29 s ± 45.7 ms per loop (mean ± std. dev. of 7 runs, 1 loop each)\n"
     ]
    }
   ],
   "source": [
    "sel_idx = 0\n",
    "def test1():\n",
    "    pc_torch = ret['coarse'][sel_idx]\n",
    "    sampled = get_partial_mesh(in_dict['input'][sel_idx], pc_torch, k=20, surface_pts=1024)\n",
    "    \n",
    "%timeit for x in range(100): test1()"
   ]
  },
  {
   "cell_type": "code",
   "execution_count": 8,
   "id": "1b4fb129",
   "metadata": {},
   "outputs": [
    {
     "name": "stdout",
     "output_type": "stream",
     "text": [
      "0.1114661693572998\n"
     ]
    }
   ],
   "source": [
    "sel_idx = 5\n",
    "import time\n",
    "t0 = time.time()\n",
    "pc_torch = ret['coarse'][sel_idx]\n",
    "sampled_t = get_partial_mesh(in_dict['input'][sel_idx], pc_torch, k=20, surface_pts=1024)\n",
    "print(time.time() - t0)"
   ]
  },
  {
   "cell_type": "code",
   "execution_count": 9,
   "id": "d1039857",
   "metadata": {},
   "outputs": [
    {
     "name": "stdout",
     "output_type": "stream",
     "text": [
      "0.03335428237915039\n"
     ]
    }
   ],
   "source": [
    "import time\n",
    "t0 = time.time()\n",
    "pc_np = ret['coarse'][sel_idx].detach().cpu().numpy()\n",
    "sampled_n = partial_with_KDTree(in_dict['input'][sel_idx].cpu().numpy(), pc_np, k=20, surface_pts=1024)\n",
    "print(time.time() - t0)"
   ]
  },
  {
   "cell_type": "code",
   "execution_count": 22,
   "id": "24227426",
   "metadata": {},
   "outputs": [
    {
     "data": {
      "text/plain": [
       "(1024, 3)"
      ]
     },
     "execution_count": 22,
     "metadata": {},
     "output_type": "execute_result"
    }
   ],
   "source": [
    "sampled_n = partial_with_KDTree(in_dict['input'][sel_idx], ret['coarse'][sel_idx], k=20, surface_pts=1024)\n",
    "sampled_n.shape"
   ]
  },
  {
   "cell_type": "code",
   "execution_count": 7,
   "id": "a7178977",
   "metadata": {},
   "outputs": [],
   "source": [
    "def get_partial_mesh_batch(batch_partial, batch_complete, k=20, surface_pts=1024):\n",
    "    \"\"\"\n",
    "    Runs \"partial_with_KDTree\" function but in batches.\n",
    "\n",
    "    partial_pc (B N 3): Input sparse point cloud\n",
    "    complete_pc (B N 3): Dense complete surface/ coarse prediction\n",
    "    k (int): Number of nearest points to sample\n",
    "\n",
    "    Returns pc (B N 3)\n",
    "    \"\"\"\n",
    "    print(\"using kdtree\")\n",
    "    surfaces = [partial_with_KDTree(partial, complete, k=k, surface_pts=surface_pts)[np.newaxis,...] for partial, complete in zip(batch_partial, batch_complete)]\n",
    "    return np.concatenate(surfaces, axis=0)\n",
    "\n",
    "def get_largest_cluster(pc, eps=0.4, min_points=1, istensor=False, total_pts=1024):\n",
    "    \"\"\"\n",
    "    partial_pc (N 3): Input sparse point cloud \n",
    "    Returns pc (N 3)\n",
    "\n",
    "    \"\"\"\n",
    "\n",
    "    sel_pc = convert_to_o3dpcd(pc)\n",
    "    labels = np.array(sel_pc.cluster_dbscan(eps=eps, min_points=min_points))\n",
    "    y = np.bincount(labels[labels >= 0])\n",
    "    value = np.argmax(y)\n",
    "    most_points = np.argwhere(labels == value)\n",
    "    f_pcd = sel_pc.select_by_index(most_points)\n",
    "    ret_pc = np.asarray(f_pcd.points)\n",
    "\n",
    "    ret_pc_sampled = np.tile(ret_pc, (int(np.ceil(total_pts/ret_pc.shape[0])), 1))[:total_pts,:]\n",
    "\n",
    "    return ret_pc_sampled\n",
    "\n",
    "def get_largest_cluster_batch(pc, eps=0.4, min_points=1, total_pts=1024):\n",
    "    \"\"\"\n",
    "    partial_pc (B N 3): Input sparse point cloud (Tensor)\n",
    "    Returns pc (B N 3)\n",
    "\n",
    "    \"\"\"   \n",
    "    clusters = [get_largest_cluster(p, eps=eps, min_points=min_points, total_pts=total_pts)[np.newaxis,...] for p in pc]\n",
    "    return np.concatenate(clusters, axis=0)"
   ]
  },
  {
   "cell_type": "code",
   "execution_count": 8,
   "id": "dfcb8663",
   "metadata": {},
   "outputs": [
    {
     "name": "stdout",
     "output_type": "stream",
     "text": [
      "using kdtree\n"
     ]
    }
   ],
   "source": [
    "surfaces = get_partial_mesh_batch(in_dict['input'], ret['coarse'])\n",
    "cluster = get_largest_cluster_batch(surfaces)"
   ]
  },
  {
   "cell_type": "code",
   "execution_count": 46,
   "id": "d93e1fd9",
   "metadata": {},
   "outputs": [
    {
     "data": {
      "text/plain": [
       "True"
      ]
     },
     "execution_count": 46,
     "metadata": {},
     "output_type": "execute_result"
    }
   ],
   "source": [
    "sampled_t = sampled_t.detach().cpu().numpy()\n",
    "np.allclose(sampled_n, sampled_t)"
   ]
  },
  {
   "cell_type": "code",
   "execution_count": 17,
   "id": "690b8c82",
   "metadata": {},
   "outputs": [],
   "source": [
    "o3d.visualization.draw_geometries(convert_to_o3dpcd(list(cluster)))"
   ]
  },
  {
   "cell_type": "code",
   "execution_count": 18,
   "id": "6ec2217b",
   "metadata": {},
   "outputs": [
    {
     "name": "stdout",
     "output_type": "stream",
     "text": [
      "3.17 s ± 54.6 ms per loop (mean ± std. dev. of 7 runs, 1 loop each)\n"
     ]
    }
   ],
   "source": [
    "def test2():\n",
    "    pc_np = ret['coarse'][sel_idx].detach().cpu().numpy()\n",
    "    sampled = partial_with_KDTree(in_dict['input'][sel_idx].cpu().numpy(), pc_np, k=20, surface_pts=1024)\n",
    "    \n",
    "%timeit for x in range(100): test2()"
   ]
  },
  {
   "cell_type": "markdown",
   "id": "7a92d3ef",
   "metadata": {},
   "source": [
    "# Attention modules"
   ]
  },
  {
   "cell_type": "code",
   "execution_count": 58,
   "id": "ceef7288",
   "metadata": {},
   "outputs": [],
   "source": [
    "# Code from https://github.com/ShiQiu0419/attentions_in_3D_detection/blob/main/backbone_module.py\n",
    "\n",
    "class SE(nn.Module):\n",
    "    def __init__(self, C, r=8):\n",
    "        super().__init__()\n",
    "        self.squeeze = nn.AdaptiveAvgPool1d(1)\n",
    "        self.excitation = nn.Sequential(\n",
    "            nn.Linear(C, C // r, bias=False),\n",
    "            nn.ReLU(inplace=True),\n",
    "            nn.Linear(C // r, C, bias=False),\n",
    "            nn.Sigmoid()\n",
    "        )\n",
    "\n",
    "    def forward(self, x):\n",
    "        b, C, _ = x.shape\n",
    "        out = self.squeeze(x).view(b, C)\n",
    "        out = self.excitation(out).view(b, C, 1)\n",
    "        return x * out.expand_as(x)\n",
    "    \n",
    "class ChannelAttentionModule(nn.Module):\n",
    "    \"\"\" this function is used to achieve the channel attention module in CBAM paper\"\"\"\n",
    "    def __init__(self, C, ratio=8): # getting from the CBAM paper, ratio=16\n",
    "        super(ChannelAttentionModule, self).__init__()\n",
    "\n",
    "        self.mlp = nn.Sequential(\n",
    "            nn.Conv1d(in_channels=C, out_channels=C // ratio, kernel_size=1, bias=False),\n",
    "            nn.ReLU(),\n",
    "            nn.Conv1d(in_channels= C // ratio, out_channels=C, kernel_size=1, bias=False)\n",
    "        )\n",
    "\n",
    "        self.sigmoid = nn.Sigmoid()\n",
    "\n",
    "    def forward(self,x):\n",
    "\n",
    "        out1 = torch.mean(x, dim=-1, keepdim=True)  # b, c, 1\n",
    "        out1 = self.mlp(out1) # b, c, 1\n",
    "\n",
    "        out2 = nn.AdaptiveMaxPool1d(1)(x) # b, c, 1\n",
    "        out2 = self.mlp(out2) # b, c, 1\n",
    "\n",
    "        out = self.sigmoid(out1 + out2)\n",
    "\n",
    "        return out * x\n"
   ]
  },
  {
   "cell_type": "code",
   "execution_count": 52,
   "id": "90340f89",
   "metadata": {},
   "outputs": [
    {
     "data": {
      "text/plain": [
       "tensor([[0.0006, 0.0013, 0.0006,  ..., 0.0015, 0.0011, 0.0012],\n",
       "        [0.0015, 0.0006, 0.0015,  ..., 0.0010, 0.0007, 0.0009],\n",
       "        [0.0009, 0.0013, 0.0012,  ..., 0.0006, 0.0008, 0.0006],\n",
       "        ...,\n",
       "        [0.0006, 0.0012, 0.0006,  ..., 0.0008, 0.0008, 0.0008],\n",
       "        [0.0014, 0.0006, 0.0014,  ..., 0.0015, 0.0012, 0.0012],\n",
       "        [0.0009, 0.0006, 0.0012,  ..., 0.0010, 0.0014, 0.0011]])"
      ]
     },
     "execution_count": 52,
     "metadata": {},
     "output_type": "execute_result"
    }
   ],
   "source": [
    "sm = nn.Softmax(dim=1)\n",
    "sm(torch.rand(16,1024))"
   ]
  },
  {
   "cell_type": "code",
   "execution_count": 60,
   "id": "e5de5556",
   "metadata": {},
   "outputs": [
    {
     "data": {
      "text/plain": [
       "tensor([[[0.2792],\n",
       "         [0.4631],\n",
       "         [0.0650],\n",
       "         ...,\n",
       "         [0.0927],\n",
       "         [0.1690],\n",
       "         [0.0214]],\n",
       "\n",
       "        [[0.2022],\n",
       "         [0.3506],\n",
       "         [0.3996],\n",
       "         ...,\n",
       "         [0.3873],\n",
       "         [0.4483],\n",
       "         [0.1604]],\n",
       "\n",
       "        [[0.3080],\n",
       "         [0.3987],\n",
       "         [0.1682],\n",
       "         ...,\n",
       "         [0.2807],\n",
       "         [0.3572],\n",
       "         [0.2634]],\n",
       "\n",
       "        ...,\n",
       "\n",
       "        [[0.0350],\n",
       "         [0.3573],\n",
       "         [0.0456],\n",
       "         ...,\n",
       "         [0.1554],\n",
       "         [0.3275],\n",
       "         [0.2671]],\n",
       "\n",
       "        [[0.2564],\n",
       "         [0.0556],\n",
       "         [0.1130],\n",
       "         ...,\n",
       "         [0.3959],\n",
       "         [0.3518],\n",
       "         [0.3027]],\n",
       "\n",
       "        [[0.2859],\n",
       "         [0.3261],\n",
       "         [0.3122],\n",
       "         ...,\n",
       "         [0.0898],\n",
       "         [0.3027],\n",
       "         [0.1494]]], grad_fn=<MulBackward0>)"
      ]
     },
     "execution_count": 60,
     "metadata": {},
     "output_type": "execute_result"
    }
   ],
   "source": [
    "att = ChannelAttentionModule(256)\n",
    "att(torch.rand(16,256,1))"
   ]
  },
  {
   "cell_type": "markdown",
   "id": "332eb259",
   "metadata": {},
   "source": [
    "# Test cases"
   ]
  },
  {
   "cell_type": "code",
   "execution_count": 24,
   "id": "dfb382a7",
   "metadata": {},
   "outputs": [],
   "source": [
    "def get_direction_target(rot_gt, num_bins=2, period=2*np.pi, dir_offset=0.0):\n",
    "\n",
    "    \"\"\"\n",
    "    Taken from OpenPCDet, anchor_head_template.py        \n",
    "    Not sure what dir_offset is, but in OpenPCDet, they set it to pi/4\n",
    "\n",
    "    \"\"\"\n",
    "    val = rot_gt - dir_offset\n",
    "    offset_rot = val - torch.floor(val / period) * period\n",
    "\n",
    "    # Divide by period=pi. If angle less than pi, then it'll be less than 1\n",
    "    # If angle more than pi, then result is more than 1. So we floor it and \n",
    "    # it's a smart way of getting the classes\n",
    "    dir_cls_targets = torch.floor(offset_rot / (2 * np.pi / num_bins)).long()\n",
    "    dir_cls_targets = torch.clamp(dir_cls_targets, min=0, max=num_bins - 1)\n",
    "    dir_targets = torch.zeros(*list(dir_cls_targets.shape), num_bins).cuda()\n",
    "    dir_targets.scatter_(-1, dir_cls_targets.unsqueeze(dim=-1).long(), 1.0)\n",
    "    return dir_targets\n",
    "\n",
    "def test_dir_target(headings):\n",
    "    one_hot = get_direction_target(headings)\n",
    "    dir_lab = torch.argmax(one_hot, dim=1)\n",
    "    check = headings * dir_lab\n",
    "    print(check)\n",
    "    print(check < 0)\n",
    "    assert torch.all(check < 0), f\"headings=\\n{torch.stack([headings, dir_lab]).permute(1,0)}\"    \n",
    "    \n",
    "def test_rotm_to_heading(headings):\n",
    "    gt_rmat = rot_from_heading(headings)\n",
    "    mult = torch.matmul(gt_rmat, gt_rmat)    \n",
    "    gt_add = rot_from_heading(headings + headings)\n",
    "    matclose = torch.allclose(mult,gt_add, atol=1e-6)\n",
    "    if not matclose:\n",
    "        print(mult)\n",
    "        print(gt_add)\n",
    "    \n",
    "    z_from_rot = rotm_to_heading(mult)\n",
    "    z_added = headings + headings\n",
    "    z_added_grtpi = z_added > np.pi\n",
    "    z_added_letnegpi = z_added <= -np.pi\n",
    "    z_added[z_added_grtpi] -= 2*np.pi\n",
    "    z_added[z_added_letnegpi] += 2*np.pi\n",
    "\n",
    "    headclose = torch.allclose(z_from_rot, z_added, atol=1e-6)\n",
    "    if not headclose:\n",
    "        print('gt_boxes = ', gt_boxes[:,-1])\n",
    "        print('z_from_rot = ', z_from_rot)\n",
    "        print('z_added = ', z_added)"
   ]
  },
  {
   "cell_type": "code",
   "execution_count": 45,
   "id": "65985eca",
   "metadata": {},
   "outputs": [
    {
     "name": "stdout",
     "output_type": "stream",
     "text": [
      "tensor([[[0.2954, 0.7741, 0.1584],\n",
      "         [0.7551, 0.3548, 0.6091],\n",
      "         [0.7667, 0.9050, 0.8529]],\n",
      "\n",
      "        [[0.4452, 0.5041, 0.3528],\n",
      "         [0.9073, 0.4671, 0.6447],\n",
      "         [0.7740, 0.1058, 0.5089]],\n",
      "\n",
      "        [[0.2188, 0.1755, 0.0774],\n",
      "         [0.5338, 0.5311, 0.8575],\n",
      "         [0.5730, 0.4951, 0.4175]],\n",
      "\n",
      "        [[0.6832, 0.2816, 0.7955],\n",
      "         [0.5549, 0.5363, 0.5143],\n",
      "         [0.3852, 0.7853, 0.1734]],\n",
      "\n",
      "        [[0.1175, 0.7590, 0.0921],\n",
      "         [0.3102, 0.3112, 0.7955],\n",
      "         [0.1418, 0.1719, 0.5091]],\n",
      "\n",
      "        [[0.2151, 0.9018, 0.8396],\n",
      "         [0.2959, 0.2092, 0.2264],\n",
      "         [0.9510, 0.7285, 0.6118]],\n",
      "\n",
      "        [[0.8687, 0.4731, 0.6261],\n",
      "         [0.4016, 0.5731, 0.4948],\n",
      "         [0.1436, 0.9237, 0.3084]],\n",
      "\n",
      "        [[0.1148, 0.2804, 0.6856],\n",
      "         [0.6291, 0.3324, 0.4254],\n",
      "         [0.6670, 0.3520, 0.8038]],\n",
      "\n",
      "        [[0.5232, 0.9408, 0.7949],\n",
      "         [0.6530, 0.5521, 0.0820],\n",
      "         [0.8782, 0.0681, 0.9177]],\n",
      "\n",
      "        [[0.1741, 0.5378, 0.5479],\n",
      "         [0.7656, 0.5148, 0.2273],\n",
      "         [0.4622, 0.4887, 0.3351]],\n",
      "\n",
      "        [[0.8691, 0.4440, 0.9655],\n",
      "         [0.1560, 0.8459, 0.5004],\n",
      "         [0.3739, 0.5543, 0.4157]],\n",
      "\n",
      "        [[0.9048, 0.1930, 0.9644],\n",
      "         [0.7968, 0.8336, 0.0188],\n",
      "         [0.7713, 0.0831, 0.6386]],\n",
      "\n",
      "        [[0.2535, 0.6465, 0.4423],\n",
      "         [0.7444, 0.3837, 0.0782],\n",
      "         [0.4653, 0.6448, 0.3196]],\n",
      "\n",
      "        [[0.2767, 0.2229, 0.8246],\n",
      "         [0.2935, 0.9926, 0.8350],\n",
      "         [0.8500, 0.9405, 0.9244]],\n",
      "\n",
      "        [[0.9294, 0.2225, 0.5484],\n",
      "         [0.1096, 0.8151, 0.6171],\n",
      "         [0.9818, 0.3640, 0.3156]],\n",
      "\n",
      "        [[0.4211, 0.5333, 0.2779],\n",
      "         [0.9235, 0.9261, 0.6123],\n",
      "         [0.4683, 0.4267, 0.7043]]], device='cuda:2')\n",
      "tensor([[[ 0.0315,  0.9995,  0.0000],\n",
      "         [-0.9995,  0.0315,  0.0000],\n",
      "         [ 0.0000,  0.0000,  1.0000]],\n",
      "\n",
      "        [[ 0.9998,  0.0195,  0.0000],\n",
      "         [-0.0195,  0.9998,  0.0000],\n",
      "         [ 0.0000,  0.0000,  1.0000]],\n",
      "\n",
      "        [[ 0.2188,  0.1755,  0.0774],\n",
      "         [ 0.5338,  0.5311,  0.8575],\n",
      "         [ 0.5730,  0.4951,  0.4175]],\n",
      "\n",
      "        [[ 0.6832,  0.2816,  0.7955],\n",
      "         [ 0.5549,  0.5363,  0.5143],\n",
      "         [ 0.3852,  0.7853,  0.1734]],\n",
      "\n",
      "        [[ 0.0243, -0.9997,  0.0000],\n",
      "         [ 0.9997,  0.0243,  0.0000],\n",
      "         [ 0.0000,  0.0000,  1.0000]],\n",
      "\n",
      "        [[-1.0000,  0.0080,  0.0000],\n",
      "         [-0.0080, -1.0000,  0.0000],\n",
      "         [ 0.0000,  0.0000,  1.0000]],\n",
      "\n",
      "        [[ 0.8687,  0.4731,  0.6261],\n",
      "         [ 0.4016,  0.5731,  0.4948],\n",
      "         [ 0.1436,  0.9237,  0.3084]],\n",
      "\n",
      "        [[ 0.1148,  0.2804,  0.6856],\n",
      "         [ 0.6291,  0.3324,  0.4254],\n",
      "         [ 0.6670,  0.3520,  0.8038]],\n",
      "\n",
      "        [[ 0.5232,  0.9408,  0.7949],\n",
      "         [ 0.6530,  0.5521,  0.0820],\n",
      "         [ 0.8782,  0.0681,  0.9177]],\n",
      "\n",
      "        [[ 0.1741,  0.5378,  0.5479],\n",
      "         [ 0.7656,  0.5148,  0.2273],\n",
      "         [ 0.4622,  0.4887,  0.3351]],\n",
      "\n",
      "        [[ 0.0794,  0.9968,  0.0000],\n",
      "         [-0.9968,  0.0794,  0.0000],\n",
      "         [ 0.0000,  0.0000,  1.0000]],\n",
      "\n",
      "        [[ 0.9048,  0.1930,  0.9644],\n",
      "         [ 0.7968,  0.8336,  0.0188],\n",
      "         [ 0.7713,  0.0831,  0.6386]],\n",
      "\n",
      "        [[-0.8236,  0.5672,  0.0000],\n",
      "         [-0.5672, -0.8236,  0.0000],\n",
      "         [ 0.0000,  0.0000,  1.0000]],\n",
      "\n",
      "        [[-0.9965,  0.0831,  0.0000],\n",
      "         [-0.0831, -0.9965,  0.0000],\n",
      "         [ 0.0000,  0.0000,  1.0000]],\n",
      "\n",
      "        [[ 0.9294,  0.2225,  0.5484],\n",
      "         [ 0.1096,  0.8151,  0.6171],\n",
      "         [ 0.9818,  0.3640,  0.3156]],\n",
      "\n",
      "        [[ 0.9238,  0.3828,  0.0000],\n",
      "         [-0.3828,  0.9238,  0.0000],\n",
      "         [ 0.0000,  0.0000,  1.0000]]], device='cuda:2')\n"
     ]
    }
   ],
   "source": [
    "rot_mat = torch.rand(16,3,3).cuda()\n",
    "pred_dirlab = torch.from_numpy(np.random.randint(0,2,16)).cuda()\n",
    "gt_dirlab = torch.argmax(get_direction_target(in_dict['gt_boxes'][:,-1]), dim=1)\n",
    "wrongdir_mask = pred_dirlab != gt_dirlab\n",
    "\n",
    "print(rot_mat)\n",
    "\n",
    "rot_mat[wrongdir_mask] = rot_from_heading(in_dict['gt_boxes'][:,-1])[wrongdir_mask]\n",
    "print(rot_mat)"
   ]
  },
  {
   "cell_type": "code",
   "execution_count": 46,
   "id": "66026bb1",
   "metadata": {},
   "outputs": [
    {
     "data": {
      "text/plain": [
       "tensor([[1, 0],\n",
       "        [1, 0],\n",
       "        [0, 0],\n",
       "        [0, 0],\n",
       "        [0, 1],\n",
       "        [1, 0],\n",
       "        [1, 1],\n",
       "        [1, 1],\n",
       "        [1, 1],\n",
       "        [1, 1],\n",
       "        [1, 0],\n",
       "        [1, 1],\n",
       "        [1, 0],\n",
       "        [1, 0],\n",
       "        [0, 0],\n",
       "        [1, 0]], device='cuda:2')"
      ]
     },
     "execution_count": 46,
     "metadata": {},
     "output_type": "execute_result"
    }
   ],
   "source": [
    "torch.stack([pred_dirlab, gt_dirlab]).permute(1,0)"
   ]
  },
  {
   "cell_type": "code",
   "execution_count": 51,
   "id": "94ed4b05",
   "metadata": {},
   "outputs": [
    {
     "name": "stderr",
     "output_type": "stream",
     "text": [
      "  0%|                                                  | 0/7675 [00:00<?, ?it/s]"
     ]
    },
    {
     "name": "stdout",
     "output_type": "stream",
     "text": [
      "tensor([    -0.002,      0.000,      0.000,      0.000,      0.000,     -3.060,\n",
      "            -0.005,     -3.131,      0.000,     -2.586,     -1.635,     -0.069,\n",
      "            -2.531,     -0.240,      0.000,     -0.037], device='cuda:2')\n",
      "tensor([ True, False, False, False, False,  True,  True,  True, False,  True,\n",
      "         True,  True,  True,  True, False,  True], device='cuda:2')\n"
     ]
    },
    {
     "name": "stderr",
     "output_type": "stream",
     "text": [
      "\n"
     ]
    },
    {
     "ename": "AssertionError",
     "evalue": "headings=\ntensor([[    -0.002,      1.000],\n        [     0.019,      0.000],\n        [     1.614,      0.000],\n        [     1.491,      0.000],\n        [     0.393,      0.000],\n        [    -3.060,      1.000],\n        [    -0.005,      1.000],\n        [    -3.131,      1.000],\n        [     0.031,      0.000],\n        [    -2.586,      1.000],\n        [    -1.635,      1.000],\n        [    -0.069,      1.000],\n        [    -2.531,      1.000],\n        [    -0.240,      1.000],\n        [     0.049,      0.000],\n        [    -0.037,      1.000]], device='cuda:2')",
     "output_type": "error",
     "traceback": [
      "\u001b[0;31m---------------------------------------------------------------------------\u001b[0m",
      "\u001b[0;31mAssertionError\u001b[0m                            Traceback (most recent call last)",
      "\u001b[0;32m/tmp/ipykernel_4349/195043726.py\u001b[0m in \u001b[0;36m<module>\u001b[0;34m\u001b[0m\n\u001b[1;32m      5\u001b[0m     \u001b[0mgt_boxes\u001b[0m \u001b[0;34m=\u001b[0m \u001b[0mlabel\u001b[0m\u001b[0;34m[\u001b[0m\u001b[0;34m'gt_boxes'\u001b[0m\u001b[0;34m]\u001b[0m\u001b[0;34m.\u001b[0m\u001b[0mcuda\u001b[0m\u001b[0;34m(\u001b[0m\u001b[0;34m)\u001b[0m\u001b[0;34m\u001b[0m\u001b[0;34m\u001b[0m\u001b[0m\n\u001b[1;32m      6\u001b[0m \u001b[0;34m\u001b[0m\u001b[0m\n\u001b[0;32m----> 7\u001b[0;31m     \u001b[0mtest_dir_target\u001b[0m\u001b[0;34m(\u001b[0m\u001b[0mgt_boxes\u001b[0m\u001b[0;34m[\u001b[0m\u001b[0;34m:\u001b[0m\u001b[0;34m,\u001b[0m\u001b[0;34m-\u001b[0m\u001b[0;36m1\u001b[0m\u001b[0;34m]\u001b[0m\u001b[0;34m)\u001b[0m\u001b[0;34m\u001b[0m\u001b[0;34m\u001b[0m\u001b[0m\n\u001b[0m\u001b[1;32m      8\u001b[0m \u001b[0;34m\u001b[0m\u001b[0m\n",
      "\u001b[0;32m/tmp/ipykernel_4349/2329838133.py\u001b[0m in \u001b[0;36mtest_dir_target\u001b[0;34m(headings)\u001b[0m\n\u001b[1;32m     24\u001b[0m     \u001b[0mprint\u001b[0m\u001b[0;34m(\u001b[0m\u001b[0mcheck\u001b[0m\u001b[0;34m)\u001b[0m\u001b[0;34m\u001b[0m\u001b[0;34m\u001b[0m\u001b[0m\n\u001b[1;32m     25\u001b[0m     \u001b[0mprint\u001b[0m\u001b[0;34m(\u001b[0m\u001b[0mcheck\u001b[0m \u001b[0;34m<\u001b[0m \u001b[0;36m0\u001b[0m\u001b[0;34m)\u001b[0m\u001b[0;34m\u001b[0m\u001b[0;34m\u001b[0m\u001b[0m\n\u001b[0;32m---> 26\u001b[0;31m     \u001b[0;32massert\u001b[0m \u001b[0mtorch\u001b[0m\u001b[0;34m.\u001b[0m\u001b[0mall\u001b[0m\u001b[0;34m(\u001b[0m\u001b[0mcheck\u001b[0m \u001b[0;34m<\u001b[0m \u001b[0;36m0\u001b[0m\u001b[0;34m)\u001b[0m\u001b[0;34m,\u001b[0m \u001b[0;34mf\"headings=\\n{torch.stack([headings, dir_lab]).permute(1,0)}\"\u001b[0m\u001b[0;34m\u001b[0m\u001b[0;34m\u001b[0m\u001b[0m\n\u001b[0m\u001b[1;32m     27\u001b[0m \u001b[0;34m\u001b[0m\u001b[0m\n\u001b[1;32m     28\u001b[0m \u001b[0;32mdef\u001b[0m \u001b[0mtest_rotm_to_heading\u001b[0m\u001b[0;34m(\u001b[0m\u001b[0mheadings\u001b[0m\u001b[0;34m)\u001b[0m\u001b[0;34m:\u001b[0m\u001b[0;34m\u001b[0m\u001b[0;34m\u001b[0m\u001b[0m\n",
      "\u001b[0;31mAssertionError\u001b[0m: headings=\ntensor([[    -0.002,      1.000],\n        [     0.019,      0.000],\n        [     1.614,      0.000],\n        [     1.491,      0.000],\n        [     0.393,      0.000],\n        [    -3.060,      1.000],\n        [    -0.005,      1.000],\n        [    -3.131,      1.000],\n        [     0.031,      0.000],\n        [    -2.586,      1.000],\n        [    -1.635,      1.000],\n        [    -0.069,      1.000],\n        [    -2.531,      1.000],\n        [    -0.240,      1.000],\n        [     0.049,      0.000],\n        [    -0.037,      1.000]], device='cuda:2')"
     ]
    }
   ],
   "source": [
    "torch.set_printoptions(precision=3, sci_mode=False)\n",
    "\n",
    "for idx, (taxonomy_ids, model_ids, data) in tqdm(enumerate(dataloader), total=len(dataloader)):        \n",
    "    label = data[2]\n",
    "    gt_boxes = label['gt_boxes'].cuda() \n",
    "    \n",
    "    test_dir_target(gt_boxes[:,-1])\n",
    "    "
   ]
  },
  {
   "cell_type": "code",
   "execution_count": 7,
   "id": "92ba9718",
   "metadata": {},
   "outputs": [
    {
     "name": "stderr",
     "output_type": "stream",
     "text": [
      "100%|█████████████████████████████████████████████| 342/342 [01:41<00:00,  3.38it/s]\n"
     ]
    }
   ],
   "source": [
    "import pickle\n",
    "\n",
    "combined_label = {}\n",
    "for mid in tqdm(dataset.model_ids, total=len(dataset.model_ids)):\n",
    "    combined_label[mid] = {}\n",
    "    for idx in range(40):        \n",
    "        label_file = dataset.label_path % (mid, idx)\n",
    "        with open(label_file, 'rb') as f:\n",
    "            combined_label[mid][idx] = pickle.load(f)                        "
   ]
  },
  {
   "cell_type": "code",
   "execution_count": 9,
   "id": "1151153d",
   "metadata": {},
   "outputs": [],
   "source": [
    "with open('/PoinTr/data/VC/WAYMO_nviews-40/val/label.pkl', 'wb') as f:\n",
    "    pickle.dump(combined_label, f)"
   ]
  },
  {
   "cell_type": "code",
   "execution_count": 41,
   "id": "7941e64f",
   "metadata": {},
   "outputs": [],
   "source": [
    "from utils.transform import rotate_points_along_z\n",
    "\n",
    "# Frustum angle is anti-clockwise about x axis (since +y is to the left, following RHS convention)\n",
    "frustum_angle = torch.atan2(in_dict['input'][:,:,1].mean(dim=1), in_dict['input'][:,:,0].mean(dim=1))\n",
    "rot_pcs = rotate_points_along_z(in_dict['input'], -frustum_angle)\n",
    "gt_boxes = in_dict['gt_boxes'].clone().detach()\n",
    "gt_boxes[:,:3] = rotate_points_along_z(gt_boxes[:,:3].unsqueeze(1), -frustum_angle).squeeze(1)\n",
    "\n",
    "# For gt boxes, we also need to rotate the car's orientation for the box\n",
    "gt_boxes[:,-1] = gt_boxes[:,-1] - frustum_angle"
   ]
  },
  {
   "cell_type": "code",
   "execution_count": 46,
   "id": "024b84a1",
   "metadata": {},
   "outputs": [],
   "source": [
    "# Visualize to double check\n",
    "pc_in = [convert_to_o3dpcd(rpc.cpu().numpy()) for rpc in in_dict['input']]\n",
    "# pc_in = [convert_to_o3dpcd(pc.cpu().numpy()) for pc in in_dict['input']]\n",
    "o3dbox = [boxpts_to_o3dbox(opd_to_boxpts(gbox.cpu().numpy())) for gbox in in_dict['gt_boxes']]\n",
    "\n",
    "o3d.visualization.draw_geometries(pc_in + o3dbox)"
   ]
  },
  {
   "cell_type": "code",
   "execution_count": 16,
   "id": "dd411b9a",
   "metadata": {},
   "outputs": [],
   "source": [
    "# Visualize to double check\n",
    "pc_in = [convert_to_o3dpcd(rpc.cpu().numpy()) for rpc in rot_pcs]\n",
    "# pc_in = [convert_to_o3dpcd(pc.cpu().numpy()) for pc in in_dict['input']]\n",
    "o3dbox = [boxpts_to_o3dbox(opd_to_boxpts(gbox.cpu().numpy())) for gbox in gt_boxes]\n",
    "\n",
    "o3d.visualization.draw_geometries(pc_in + o3dbox)"
   ]
  },
  {
   "cell_type": "code",
   "execution_count": 36,
   "id": "13d09e45",
   "metadata": {},
   "outputs": [
    {
     "data": {
      "text/plain": [
       "True"
      ]
     },
     "execution_count": 36,
     "metadata": {},
     "output_type": "execute_result"
    }
   ],
   "source": []
  },
  {
   "cell_type": "code",
   "execution_count": 7,
   "id": "d627e7d2",
   "metadata": {},
   "outputs": [],
   "source": [
    "# Visualize to double check\n",
    "siamese_idx = 1\n",
    "pc_num = 0\n",
    "\n",
    "pc_in = convert_to_o3dpcd(in_dict[f'input_{siamese_idx}'][pc_num,:,:].cpu().numpy())\n",
    "pc_com = convert_to_o3dpcd(in_dict[f'complete_{siamese_idx}'][pc_num,:,:].cpu().numpy(), [0.9,0.9,0.9])\n",
    "boxpts = opd_to_boxpts(in_dict[f'gt_boxes_{siamese_idx}'][pc_num,:].cpu().numpy())\n",
    "o3dgtbox = boxpts_to_o3dbox(boxpts, [1,0,0])\n",
    "\n",
    "o3d.visualization.draw_geometries([pc_in, pc_com, o3dgtbox])"
   ]
  },
  {
   "cell_type": "code",
   "execution_count": 10,
   "id": "87fc28d3",
   "metadata": {},
   "outputs": [
    {
     "data": {
      "text/plain": [
       "True"
      ]
     },
     "execution_count": 10,
     "metadata": {},
     "output_type": "execute_result"
    }
   ],
   "source": [
    "# The following are equivalent\n",
    "gt_boxes = in_dict['gt_boxes'].clone().detach()\n",
    "frustum_angle = torch.atan2(in_dict['input'][:,:,1].mean(dim=1), in_dict['input'][:,:,0].mean(dim=1))\n",
    "\n",
    "a = (rot_from_heading(gt_boxes[:,-1]) @ rot_from_heading(-frustum_angle))\n",
    "b = rot_from_heading(gt_boxes[:,-1] - frustum_angle)\n",
    "torch.allclose(a,b) # True"
   ]
  },
  {
   "cell_type": "code",
   "execution_count": 12,
   "id": "a337fc69",
   "metadata": {},
   "outputs": [
    {
     "data": {
      "text/plain": [
       "torch.Size([16, 3, 3])"
      ]
     },
     "execution_count": 12,
     "metadata": {},
     "output_type": "execute_result"
    }
   ],
   "source": [
    "orig_box.shape"
   ]
  },
  {
   "cell_type": "code",
   "execution_count": 13,
   "id": "1950cdc0",
   "metadata": {},
   "outputs": [
    {
     "data": {
      "text/plain": [
       "True"
      ]
     },
     "execution_count": 13,
     "metadata": {},
     "output_type": "execute_result"
    }
   ],
   "source": [
    "orig_box = a @ rot_from_heading(frustum_angle)\n",
    "torch.allclose(orig_box, rot_from_heading(gt_boxes[:,-1]))"
   ]
  },
  {
   "cell_type": "code",
   "execution_count": 10,
   "id": "e1ca8f4d",
   "metadata": {},
   "outputs": [],
   "source": [
    "frustum_angle = torch.atan2(in_dict['input'][:,:,1].mean(dim=1), in_dict['input'][:,:,0].mean(dim=1))\n",
    "pc_fview = rotate_points_along_z(in_dict['input'], -frustum_angle)\n",
    "\n",
    "gt_boxes = in_dict['gt_boxes']\n",
    "gt_boxes[:,:3] = rotate_points_along_z(gt_boxes[:,:3].unsqueeze(1), -frustum_angle).squeeze(1)\n",
    "gt_boxes[:,-1] = gt_boxes[:,-1] - frustum_angle\n",
    "\n",
    "o3d_boxes = [boxpts_to_o3dbox(opd_to_boxpts(gt_boxes[i,:].cpu().numpy())) for i in range(gt_boxes.shape[0])]\n",
    "pcds = [convert_to_o3dpcd(pc_fview[i,:,:].cpu().numpy()) for i in range(gt_boxes.shape[0])]\n",
    "\n",
    "origin_frame = o3d.geometry.TriangleMesh.create_coordinate_frame(size=0.5, origin=[0,0,0])\n",
    "o3d.visualization.draw_geometries(o3d_boxes + pcds +\n",
    "                                   [origin_frame])"
   ]
  },
  {
   "cell_type": "markdown",
   "id": "1cb187ff",
   "metadata": {},
   "source": [
    "# PROTOTYPE - VARIABLE INPUT"
   ]
  },
  {
   "cell_type": "code",
   "execution_count": 2,
   "id": "5426b2c2",
   "metadata": {},
   "outputs": [],
   "source": [
    "import torch\n",
    "import torch.nn as nn\n",
    "from extensions.chamfer_dist import ChamferDistanceL2\n",
    "\n",
    "import torch\n",
    "import torch.nn as nn\n",
    "import numpy as np\n",
    "from extensions.chamfer_dist import ChamferDistanceL2\n",
    "from utils.bbox_utils import rot_from_heading, get_dims\n",
    "from extensions.iou3d_nms import iou3d_nms_utils\n",
    "from utils.bbox_utils import get_bbox_from_keypoints\n",
    "\n",
    "def point_maxpool(inputs, npts, keepdims):\n",
    "    # Max pool to get a 256 feature vec for the whole object \n",
    "    # [(1,256,1),(1,256,1),...] of len=batchsize\n",
    "    outputs = [torch.max(f, dim=2, keepdim=keepdims)[0] for f in torch.split(inputs, npts, dim=2)]\n",
    "    return torch.cat(outputs, dim=0)\n",
    "\n",
    "def point_unpool(inputs, npts):\n",
    "    # Assign same 256 features to all points in the original object pcd\n",
    "    # [(1,256,N1),(1,256,N2),...] of len=batchsize\n",
    "    outputs = [torch.tile(f, [1, 1, npts[i]]) for i,f in enumerate(inputs)]\n",
    "\n",
    "    return torch.cat(outputs, dim=2)\n",
    "\n",
    "def fc_layers(layer_dims):\n",
    "    in_channels = layer_dims[0]\n",
    "    fc_layers = []\n",
    "    for out_channel in layer_dims[1:-1]:        \n",
    "        fc_layers += [nn.Linear(in_channels, out_channel),\n",
    "                    nn.BatchNorm1d(out_channel),\n",
    "                    nn.ReLU()]\n",
    "        in_channels = out_channel\n",
    "\n",
    "    fc_layers += [nn.Linear(in_channels, layer_dims[-1])]\n",
    "    return nn.Sequential(*fc_layers)\n",
    "\n",
    "def conv_layers(layer_dims):\n",
    "    in_channels = layer_dims[0]\n",
    "    conv_layers = []\n",
    "    for out_channel in layer_dims[1:]:\n",
    "        conv_layers += [nn.Conv1d(in_channels, out_channel, kernel_size=1),\n",
    "                    nn.BatchNorm1d(out_channel),\n",
    "                    nn.ReLU()]\n",
    "        in_channels = out_channel\n",
    "    return nn.Sequential(*conv_layers)\n",
    "\n",
    "\n",
    "class FeatureEncoder(nn.Module):\n",
    "    def __init__(self, num_keypoints):\n",
    "        super(FeatureEncoder, self).__init__()\n",
    "        self.mlp_conv1 = nn.Sequential(\n",
    "            nn.Conv1d(3,128,1),\n",
    "            nn.BatchNorm1d(128),\n",
    "            nn.ReLU(inplace=True),\n",
    "            nn.Conv1d(128,256,1)\n",
    "        )\n",
    "        self.mlp_conv2 = nn.Sequential(\n",
    "            nn.Conv1d(512,512,1),\n",
    "            nn.BatchNorm1d(512),\n",
    "            nn.ReLU(inplace=True),\n",
    "            nn.Conv1d(512,num_keypoints,1)\n",
    "        )    \n",
    "\n",
    "    def forward(self, x, npts_per_id):\n",
    "        # Pytorch is (B,C,N) format\n",
    "\n",
    "        # 1 3 N\n",
    "        mlp_feat = self.mlp_conv1(x) # 1 256 N\n",
    "        symmetric_feat = point_maxpool(mlp_feat, npts_per_id, keepdims=True)  # B 256 1\n",
    "        symmetric_feat = point_unpool(symmetric_feat, npts_per_id)  # 1 256 N\n",
    "        \n",
    "        # Concatenate global (symmetric) and point (mlp) features\n",
    "        features = torch.cat([mlp_feat, symmetric_feat], dim=1) # 1 512 N\n",
    "\n",
    "        # Process the combined features\n",
    "        # 1 global 1024-feature vector per object (i.e. 1024 channels)\n",
    "        combined_feat = self.mlp_conv2(features)  # 1 1024 N\n",
    "        combined_feat = point_maxpool(combined_feat, npts_per_id, keepdims=False)  # B 1024 1\n",
    "        \n",
    "        return combined_feat"
   ]
  },
  {
   "cell_type": "code",
   "execution_count": 6,
   "id": "95528f3b",
   "metadata": {},
   "outputs": [],
   "source": [
    "class VCKP(nn.Module):\n",
    "    def __init__(self, config):\n",
    "        super().__init__()\n",
    "        self.N_keypoints = config.num_keypoints\n",
    "        self.centre_mlp = conv_layers(layer_dims=[3,64,128,256,512])\n",
    "        self.centre_fc = fc_layers(layer_dims=[512,256,128,3])\n",
    "        self.heading_mlp = conv_layers(layer_dims=[3,64,128,256,512])\n",
    "        self.heading_fc = fc_layers(layer_dims=[512,256,128,1])\n",
    "        \n",
    "        self.encoder = FeatureEncoder(self.N_keypoints)    \n",
    "        self.final_mlp = nn.Sequential(\n",
    "            nn.Linear(self.N_keypoints,1024),\n",
    "            nn.ReLU(inplace=True),\n",
    "            nn.Linear(1024,1024),\n",
    "            nn.ReLU(inplace=True),\n",
    "            nn.Linear(1024,3*self.N_keypoints)\n",
    "        )\n",
    "        # self.loss_regis = ChamferDistanceL2()\n",
    "        self.loss_coarse = ChamferDistanceL2()\n",
    "        self.loss_translation = nn.SmoothL1Loss(reduction='none')\n",
    "        self.loss_dims = nn.SmoothL1Loss(reduction='none')    \n",
    "\n",
    "    \n",
    "    def get_loss(self, ret_dict, in_dict):        \n",
    "\n",
    "        gt_boxes = in_dict['gt_boxes']\n",
    "        \n",
    "        loss_dict = {}        \n",
    "        pred_box = get_bbox_from_keypoints(ret_dict['coarse'], gt_boxes) # B 7        \n",
    "        loss_dict['dims'] = self.loss_dims(gt_boxes[:,3:6].cuda(), pred_box[:,3:6]).mean()\n",
    "\n",
    "        # Translation loss\n",
    "        gt_centres = gt_boxes[:,:3]\n",
    "        loss_dict['translation'] = self.loss_translation(gt_centres.cuda(), ret_dict['reg_centre']).mean()\n",
    "\n",
    "        # Coarse loss - with or without random gt downsampling is not much diff\n",
    "        loss_dict['coarse'] = self.loss_coarse(ret_dict['coarse'], in_dict['complete'])\n",
    "\n",
    "        return loss_dict\n",
    "            \n",
    "    def forward(self, in_dict):\n",
    "        \n",
    "        x = in_dict['input'] # 1 N 3\n",
    "        npts = list(in_dict['num_pts'])\n",
    "        ret = {}\n",
    "\n",
    "        # x input shape is 1 N 3\n",
    "        x_indv = torch.split(x, npts, dim=1) # [x1,x2,x3] each of 1 N 3\n",
    "\n",
    "        # Centre pointcloud on the mean of the points\n",
    "        obj_mean = torch.cat([obj.mean(dim=1).unsqueeze(1) for obj in x_indv], dim=0) # B 1 3\n",
    "        x_meancentered = torch.cat([obj - obj.mean(dim=1).unsqueeze(1) for obj in x_indv],dim=1) # 1 N 3\n",
    "        x_meancentered = x_meancentered.permute(0,2,1) # 1 3 N\n",
    "\n",
    "        # Regress the centre delta                \n",
    "        centre_conv = self.centre_mlp(x_meancentered) # B 3 3, B 1 3       \n",
    "        centre_conv = point_maxpool(centre_conv, npts, keepdims=False)  # B feat_dims\n",
    "        centre_delta = self.centre_fc(centre_conv).unsqueeze(2) # B 3 1\n",
    "        centre = obj_mean + centre_delta.permute(0,2,1) # B 1 3\n",
    "        x_centered_list = [x_indv[i] - centre[i].unsqueeze(1) for i in range(len(x_indv))] # each is 1 N 3\n",
    "        x_centered = torch.cat(x_centered_list, dim=1) # 1 N 3\n",
    "\n",
    "        encoded_feat = self.encoder(x_centered.permute(0,2,1), npts) # B N_keypoints\n",
    "\n",
    "        # Coarse completion\n",
    "        coarse = self.final_mlp(encoded_feat) # B N_keypoints*3\n",
    "        coarse = coarse.reshape([-1, self.N_keypoints, 3]) # B N_keypoints 3\n",
    "\n",
    "        # Get dimensions of coarse keypoints        \n",
    "        ret['reg_centre'] = torch.cat([centre.squeeze(1)], dim=1) # B 3\n",
    "\n",
    "        # Bring back to VC coordinates\n",
    "        coarse_vc = coarse + centre # B N 3\n",
    "        ret['coarse'] = coarse_vc.contiguous()\n",
    "        return ret"
   ]
  },
  {
   "cell_type": "code",
   "execution_count": 7,
   "id": "96d09584",
   "metadata": {},
   "outputs": [
    {
     "name": "stderr",
     "output_type": "stream",
     "text": [
      "2022-05-19 00:18:32,263 - VC_DATASET - INFO - Complete collecting files for train. Total views: 122800\n",
      "  0%|          | 0/7675 [00:00<?, ?it/s]"
     ]
    },
    {
     "name": "stdout",
     "output_type": "stream",
     "text": [
      "1\n"
     ]
    },
    {
     "name": "stderr",
     "output_type": "stream",
     "text": [
      "\n"
     ]
    }
   ],
   "source": [
    "from tqdm import tqdm\n",
    "\n",
    "torch.cuda.set_device(2) # set to gpu 1080 whenever .cuda() is used\n",
    "\n",
    "cfg_file = '/PoinTr/cfgs/VC_models/VCKP.yaml'\n",
    "config = cfg_from_yaml_file(cfg_file)\n",
    "\n",
    "data_subset = config.dataset.train\n",
    "data_subset.others.num_inputs = 1\n",
    "# data_subset._base_.USE_NVIEWS_PER_MODEL = 1\n",
    "\n",
    "dataset = build_dataset_from_cfg(data_subset._base_, data_subset.others)\n",
    "print(dataset.num_inputs)\n",
    "\n",
    "if data_subset._base_.NAME in ['VC','KITTI']:\n",
    "    if data_subset.others.fixed_input:\n",
    "        collate_fn = dataset.collate_fixed_input\n",
    "    else:            \n",
    "        collate_fn = dataset.collate_variable_input\n",
    "else:\n",
    "    collate_fn=None\n",
    "\n",
    "sampler = None\n",
    "dataloader = torch.utils.data.DataLoader(dataset, batch_size=16,\n",
    "                                        shuffle = True, \n",
    "                                        drop_last = False,\n",
    "                                        num_workers = 0,\n",
    "                                        worker_init_fn=worker_init_fn,\n",
    "                                        collate_fn=collate_fn)\n",
    "for idx, (taxonomy_ids, model_ids, data) in tqdm(enumerate(dataloader), total=len(dataloader)):        \n",
    "    label = data[2]\n",
    "    in_dict = {}    \n",
    "    if isinstance(data[0], list):\n",
    "        print('using siamese setup')\n",
    "        num_inputs = len(data[0])\n",
    "        for i in range(num_inputs):\n",
    "            in_dict[f'input_{i}'] = data[0][i].cuda()\n",
    "            in_dict[f'complete_{i}'] = data[1][i].cuda()\n",
    "            in_dict[f'gt_boxes_{i}'] = label[i]['gt_boxes'].cuda()\n",
    "            in_dict[f'num_pts_{i}'] = label[i]['num_pts']\n",
    "    else:\n",
    "        in_dict['input'] = data[0].cuda()\n",
    "        in_dict['gt_boxes'] = label['gt_boxes'].cuda() \n",
    "        in_dict['num_pts'] = label['num_pts']\n",
    "        in_dict['complete'] = data[1].cuda()\n",
    "        \n",
    "    in_dict['training'] = True   \n",
    "    break"
   ]
  },
  {
   "cell_type": "code",
   "execution_count": 8,
   "id": "6a07b30e",
   "metadata": {
    "scrolled": true
   },
   "outputs": [
    {
     "data": {
      "text/plain": [
       "{'reg_centre': tensor([[  9.8075,  -2.6202,  -1.5221],\n",
       "         [-43.6451,   8.2044,  -1.4281],\n",
       "         [ 59.1736,  27.5230,   0.1612],\n",
       "         [-40.3490,  -0.4222,  -1.4629],\n",
       "         [ 49.4682, -24.5758,  -2.1070],\n",
       "         [ 41.7597, -23.8500,  -0.9562],\n",
       "         [ -5.3340,  41.5594,  -2.4481],\n",
       "         [ 78.3320,  -6.6815,  -2.0265],\n",
       "         [ -2.0735,  11.2635,  -1.3250],\n",
       "         [-73.8981, -19.0240,  -1.8347],\n",
       "         [ 10.0078, -16.1026,  -0.8282],\n",
       "         [ -7.8681,   3.1434,  -1.6257],\n",
       "         [ 32.1085,  15.8986,  -1.9930],\n",
       "         [-11.5924,  -6.6723,  -1.8093],\n",
       "         [  7.6842,  15.6795,  -2.1569],\n",
       "         [-14.0872,  -4.1061,  -1.6119]], device='cuda:2',\n",
       "        grad_fn=<CatBackward>),\n",
       " 'coarse': tensor([[[  9.8036,  -2.5945,  -1.4957],\n",
       "          [  9.8384,  -2.5949,  -1.5703],\n",
       "          [  9.7862,  -2.6076,  -1.4983],\n",
       "          ...,\n",
       "          [  9.7935,  -2.6180,  -1.4893],\n",
       "          [  9.8146,  -2.6370,  -1.5558],\n",
       "          [  9.8178,  -2.6366,  -1.5221]],\n",
       " \n",
       "         [[-43.6496,   8.2366,  -1.4011],\n",
       "          [-43.6211,   8.2229,  -1.4764],\n",
       "          [-43.6684,   8.2132,  -1.4026],\n",
       "          ...,\n",
       "          [-43.6554,   8.2033,  -1.3962],\n",
       "          [-43.6425,   8.1902,  -1.4578],\n",
       "          [-43.6391,   8.1782,  -1.4307]],\n",
       " \n",
       "         [[ 59.1680,  27.5527,   0.1869],\n",
       "          [ 59.2026,  27.5466,   0.1154],\n",
       "          [ 59.1521,  27.5348,   0.1831],\n",
       "          ...,\n",
       "          [ 59.1645,  27.5224,   0.1914],\n",
       "          [ 59.1796,  27.5070,   0.1263],\n",
       "          [ 59.1833,  27.5015,   0.1582]],\n",
       " \n",
       "         ...,\n",
       " \n",
       "         [[-11.5980,  -6.6418,  -1.7846],\n",
       "          [-11.5672,  -6.6518,  -1.8533],\n",
       "          [-11.6139,  -6.6620,  -1.7871],\n",
       "          ...,\n",
       "          [-11.6007,  -6.6739,  -1.7773],\n",
       "          [-11.5908,  -6.6871,  -1.8409],\n",
       "          [-11.5847,  -6.6977,  -1.8117]],\n",
       " \n",
       "         [[  7.6810,  15.7095,  -2.1290],\n",
       "          [  7.7141,  15.7031,  -2.2055],\n",
       "          [  7.6641,  15.6920,  -2.1357],\n",
       "          ...,\n",
       "          [  7.6738,  15.6797,  -2.1262],\n",
       "          [  7.6885,  15.6647,  -2.1912],\n",
       "          [  7.6919,  15.6572,  -2.1616]],\n",
       " \n",
       "         [[-14.0930,  -4.0755,  -1.5861],\n",
       "          [-14.0614,  -4.0854,  -1.6571],\n",
       "          [-14.1097,  -4.0956,  -1.5883],\n",
       "          ...,\n",
       "          [-14.0963,  -4.1081,  -1.5800],\n",
       "          [-14.0862,  -4.1206,  -1.6433],\n",
       "          [-14.0811,  -4.1324,  -1.6142]]], device='cuda:2',\n",
       "        grad_fn=<AddBackward0>)}"
      ]
     },
     "execution_count": 8,
     "metadata": {},
     "output_type": "execute_result"
    }
   ],
   "source": [
    "# npts = list(np.random.randint(50,2048, 1))\n",
    "# sim_data = torch.rand(1,sum(npts),3).cuda()\n",
    "# print(f'input shape = {sim_data.shape}')\n",
    "\n",
    "vckp = VCKP(config.model)\n",
    "vckp.eval()\n",
    "vckp = vckp.cuda()\n",
    "ret = vckp(in_dict)\n",
    "ret"
   ]
  },
  {
   "cell_type": "code",
   "execution_count": null,
   "id": "bdfc03e4",
   "metadata": {},
   "outputs": [],
   "source": [
    "loss_dict = vckp.get_loss(ret, in_dict)\n",
    "print(loss_dict)"
   ]
  },
  {
   "cell_type": "markdown",
   "id": "8666be88",
   "metadata": {},
   "source": [
    "# Data Augmentation"
   ]
  },
  {
   "cell_type": "code",
   "execution_count": 2,
   "id": "351b2729",
   "metadata": {},
   "outputs": [],
   "source": [
    "from datasets import data_transforms\n",
    "from utils.transform import rotate_points_along_z\n",
    "\n",
    "\n",
    "def GlobalRotation(points, gt_boxes, rot_range=[-0.78, 0.78]):\n",
    "    \"\"\"\n",
    "    Args:\n",
    "        gt_boxes: (N, 7 + C), [x, y, z, dx, dy, dz, heading, [vx], [vy]]\n",
    "        points: (M, 3 + C),\n",
    "        rot_range: [min, max]\n",
    "    Returns:\n",
    "    \"\"\"\n",
    "    noise_rotation = np.random.uniform(rot_range[0], rot_range[1])\n",
    "    print(no)\n",
    "    points = rotate_points_along_z(points[np.newaxis, :, :], np.array([noise_rotation]))[0]\n",
    "    gt_boxes[0:3] = rotate_points_along_z(gt_boxes[np.newaxis, np.newaxis, 0:3], np.array([noise_rotation]))[0]\n",
    "    gt_boxes[6] += noise_rotation\n",
    "\n",
    "    return points, gt_boxes\n",
    "\n",
    "\n",
    "def GlobalScaling(points, gt_boxes, scale_range=[0.9,1.1]):\n",
    "    \"\"\"\n",
    "    Args:\n",
    "        gt_boxes: (N, 7), [x, y, z, dx, dy, dz, heading]\n",
    "        points: (M, 3 + C),\n",
    "        scale_range: [min, max]\n",
    "    Returns:\n",
    "    \"\"\"\n",
    "    if scale_range[1] - scale_range[0] < 1e-3:\n",
    "        return gt_boxes, points\n",
    "    noise_scale = np.random.uniform(scale_range[0], scale_range[1])\n",
    "    print(noise_scale)\n",
    "    points[:,:3] *= noise_scale\n",
    "    gt_boxes[3:6] *= noise_scale\n",
    "\n",
    "    return points, gt_boxes\n",
    "\n",
    "def RandomObjectScaling(points, gt_boxes, scale_range=[0.75,1.05]):\n",
    "    \"\"\"\n",
    "    Args:\n",
    "        gt_boxes: (N, 7), [x, y, z, dx, dy, dz, heading]\n",
    "        points: (M, 3 + C),\n",
    "        scale_range: [min, max]\n",
    "    Returns:\n",
    "    \"\"\"\n",
    "    if scale_range[1] - scale_range[0] < 1e-3:\n",
    "        return gt_boxes, points\n",
    "    noise_scale = np.random.uniform(scale_range[0], scale_range[1], 3)    \n",
    "    points[:,:3] *= noise_scale\n",
    "    gt_boxes[:6] *= noise_scale\n",
    "\n",
    "    return points, gt_boxes\n",
    "\n",
    "def RandomRingDropout(pts):\n",
    "        \n",
    "    sph_pts = cart2sph(pts)\n",
    "\n",
    "    # Doane or fd bin selection seems to do a good job at finding rings\n",
    "    hist = np.histogram(sph_pts[:,2], bins='doane')\n",
    "    num_rings = len(hist[0])\n",
    "\n",
    "    # Only drop rings when there are rings to drop\n",
    "    if num_rings > 0:                \n",
    "        ringidx = np.digitize(sph_pts[:,2], hist[1])\n",
    "\n",
    "        # Number of rings to drop; min 1 ring remaining\n",
    "        num_drop_rings = np.random.randint(0,num_rings-1,1).item()\n",
    "\n",
    "        # Choose which rings to drop\n",
    "        drop_rings = np.random.randint(0, num_rings, num_drop_rings)\n",
    "        mask = ~np.in1d(ringidx, drop_rings)\n",
    "\n",
    "        if np.count_nonzero(mask) > min_out_pts:\n",
    "            return sph2cart(sph_pts[mask])\n",
    "\n",
    "    return pts"
   ]
  },
  {
   "cell_type": "code",
   "execution_count": 3,
   "id": "490cd1d0",
   "metadata": {},
   "outputs": [
    {
     "name": "stderr",
     "output_type": "stream",
     "text": [
      "2022-05-23 06:55:16,360 - VC_DATASET - INFO - Complete collecting files for train. Total views: 122800\n"
     ]
    }
   ],
   "source": [
    "cfg_file = '/PoinTr/cfgs/VC_models/PCN.yaml'\n",
    "config = cfg_from_yaml_file(cfg_file)\n",
    "\n",
    "data_subset = config.dataset.train\n",
    "dataset = build_dataset_from_cfg(data_subset._base_, data_subset.others)\n",
    "if data_subset._base_.NAME in ['VC','KITTI']:\n",
    "    if data_subset.others.fixed_input:\n",
    "        collate_fn = dataset.collate_fixed_input\n",
    "    else:            \n",
    "        collate_fn = dataset.collate_variable_input\n",
    "else:\n",
    "    collate_fn=None\n",
    "\n",
    "sampler = None\n",
    "dataloader = torch.utils.data.DataLoader(dataset, batch_size=1,\n",
    "                                        shuffle = False, \n",
    "                                        drop_last = False,\n",
    "                                        num_workers = 0,\n",
    "                                        worker_init_fn=worker_init_fn,\n",
    "                                        collate_fn=collate_fn)\n",
    "for idx, (taxonomy_ids, model_ids, data) in enumerate(dataloader):\n",
    "    \n",
    "    label = data[2]\n",
    "    in_dict = {}\n",
    "    in_dict['input'] = data[0].cuda()\n",
    "    in_dict['gt_boxes'] = label['gt_boxes'].cuda()\n",
    "    in_dict['complete'] = data[1].cuda()\n",
    "    in_dict['training'] = True\n",
    "    in_dict['num_pts'] = label['num_pts'] \n",
    "    break"
   ]
  },
  {
   "cell_type": "code",
   "execution_count": null,
   "id": "b0de9667",
   "metadata": {},
   "outputs": [],
   "source": [
    "o3d.visualization.draw_geometries([convert_to_o3dpcd(in_dict['input'].squeeze(0).cpu().numpy())])"
   ]
  },
  {
   "cell_type": "code",
   "execution_count": 64,
   "id": "64decaa0",
   "metadata": {},
   "outputs": [],
   "source": [
    "def apply_mask(data, mask, skip_keys=[]):\n",
    "    size_pos = data.shape[1]\n",
    "    for k in data.keys:\n",
    "        if size_pos == len(data[k]) and k not in skip_keys:\n",
    "            data[k] = data[k][mask]\n",
    "    return data\n",
    "\n",
    "class PeriodicSampling(object):\n",
    "    \"\"\"\n",
    "    sample point at a periodic distance\n",
    "    \"\"\"\n",
    "\n",
    "    def __init__(self, period=0.1, prop=0.1, box_multiplier=1, skip_keys=[]):\n",
    "\n",
    "        self.pulse = 2 * np.pi / period\n",
    "        self.thresh = np.cos(self.pulse * prop * period * 0.5)\n",
    "        self.box_multiplier = box_multiplier\n",
    "        self.skip_keys = skip_keys\n",
    "\n",
    "    def __call__(self, data, center):\n",
    "        \n",
    "        d_p = torch.norm(data - center, dim=1)\n",
    "        mask = torch.cos(self.pulse * d_p) > self.thresh\n",
    "        data = data[mask]\n",
    "        return data\n",
    "\n",
    "    def __repr__(self):\n",
    "        return \"{}(pulse={}, thresh={}, box_mullti={}, skip_keys={})\".format(\n",
    "            self.__class__.__name__, self.pulse, self.thresh, self.box_multiplier, self.skip_keys\n",
    "        )\n",
    "    \n",
    "# sampler = PeriodicSampling()\n",
    "# sampler(in_dict['input'].cpu())"
   ]
  },
  {
   "cell_type": "code",
   "execution_count": 89,
   "id": "a9a73836",
   "metadata": {},
   "outputs": [
    {
     "name": "stdout",
     "output_type": "stream",
     "text": [
      "(1, 3)\n",
      "(145, 3)\n",
      "(145,)\n",
      "(67, 3)\n"
     ]
    }
   ],
   "source": [
    "data = in_dict['input'].cpu().numpy().squeeze(0)\n",
    "center = in_dict['gt_boxes'].cpu().numpy().squeeze(0)[:3][np.newaxis,:]\n",
    "print(center.shape)\n",
    "print(data.shape)\n",
    "# center = np.array([[0,0,0]])\n",
    "\n",
    "d_p = np.linalg.norm(data - center, axis=1)\n",
    "print(d_p.shape)\n",
    "prop = 0.5\n",
    "period = 0.1\n",
    "pulse = 2 * np.pi / period\n",
    "mask = np.cos(pulse * d_p) > np.cos(np.pi * prop)\n",
    "out = data[mask]\n",
    "print(out.shape)"
   ]
  },
  {
   "cell_type": "code",
   "execution_count": 90,
   "id": "a9b8da51",
   "metadata": {},
   "outputs": [],
   "source": [
    "o3d.visualization.draw_geometries([convert_to_o3dpcd(in_dict['input'].squeeze(0).cpu().numpy(), [0.9,0.9,0.9]), convert_to_o3dpcd(out)])"
   ]
  },
  {
   "cell_type": "code",
   "execution_count": 24,
   "id": "9808d478",
   "metadata": {},
   "outputs": [],
   "source": [
    "o3d.visualization.draw_geometries([convert_to_o3dpcd(out)])"
   ]
  },
  {
   "cell_type": "code",
   "execution_count": 86,
   "id": "a74eec76",
   "metadata": {},
   "outputs": [
    {
     "data": {
      "text/plain": [
       "0.9411865883874125"
      ]
     },
     "execution_count": 86,
     "metadata": {},
     "output_type": "execute_result"
    }
   ],
   "source": [
    "np.random.uniform(0.5,1.0)"
   ]
  },
  {
   "cell_type": "code",
   "execution_count": 211,
   "id": "9f91d165",
   "metadata": {},
   "outputs": [
    {
     "data": {
      "image/png": "[encoded data removed]",
      "text/plain": [
       "<Figure size 432x288 with 1 Axes>"
      ]
     },
     "metadata": {
      "needs_background": "light"
     },
     "output_type": "display_data"
    }
   ],
   "source": [
    "pts = in_dict['input'].squeeze(0).cpu().numpy()\n",
    "sph_pts = cart2sph(pts)\n",
    "_ = plt.hist(sph_pts[:,2], bins=50)"
   ]
  },
  {
   "cell_type": "code",
   "execution_count": 215,
   "id": "26b61c08",
   "metadata": {},
   "outputs": [
    {
     "name": "stdout",
     "output_type": "stream",
     "text": [
      "num rings =  29\n",
      "num_rings =  29\n",
      "num chosen rings =  2\n",
      "num output points =  (15, 3)\n"
     ]
    }
   ],
   "source": [
    "hist = np.histogram(sph_pts[:,2], bins=50)\n",
    "ring_indices = np.digitize(sph_pts[:,2], hist[1][np.argwhere(hist[0] > 0).squeeze(1)])\n",
    "print('num rings = ', len(np.argwhere(hist[0] > 0).squeeze(1)))\n",
    "num_rings = max(ring_indices)\n",
    "print('num_rings = ', num_rings)\n",
    "choose_rings = np.unique(ring_indices)[np.random.randint(0,3)::np.random.randint(1,num_rings)]\n",
    "mask = np.in1d(ring_indices, choose_rings)\n",
    "print('num chosen rings = ', len(choose_rings))\n",
    "out = sph2cart(sph_pts[mask])\n",
    "print('num output points = ', out.shape)\n",
    "\n",
    "if np.count_nonzero(mask) > 5:\n",
    "    o3d.visualization.draw_geometries([convert_to_o3dpcd(out)])"
   ]
  },
  {
   "cell_type": "code",
   "execution_count": 190,
   "id": "7de9af41",
   "metadata": {},
   "outputs": [
    {
     "name": "stdout",
     "output_type": "stream",
     "text": [
      "9\n",
      "[1 8]\n",
      "(137,)\n",
      "(137,)\n"
     ]
    }
   ],
   "source": [
    "pts = in_dict['input'].squeeze(0).cpu().numpy()\n",
    "sph_pts = cart2sph(pts)\n",
    "\n",
    "# Doane or fd bin selection seems to do a good job at finding rings\n",
    "hist = np.histogram(sph_pts[:,2], bins='doane')\n",
    "print(len(hist[0]))\n",
    "ringidx = np.digitize(sph_pts[:,2], hist[1])\n",
    "num_rings = max(ringidx)\n",
    "# # Number of rings to drop; min 1 ring remaining\n",
    "# num_drop_rings = np.random.randint(0,num_rings-1,1).item()\n",
    "\n",
    "# # Choose which rings to drop\n",
    "# drop_rings = np.random.randint(0, num_rings, num_drop_rings)\n",
    "\n",
    "choose_rings = np.unique(ringidx)[np.random.randint(0,3)::np.random.randint(1,num_rings)]\n",
    "print(choose_rings)\n",
    "mask = np.in1d(ringidx, choose_rings)\n",
    "print(ringidx.shape)\n",
    "print(mask.shape)\n",
    "\n",
    "out = sph2cart(sph_pts[mask])\n",
    "# if np.count_nonzero(mask) > min_out_pts:\n",
    "#     return \n",
    "\n",
    "# return pts\n",
    "o3d.visualization.draw_geometries([convert_to_o3dpcd(out)])"
   ]
  },
  {
   "cell_type": "code",
   "execution_count": 27,
   "id": "d4c84055",
   "metadata": {},
   "outputs": [],
   "source": [
    "gtbox = np.random.rand(7)\n",
    "partial = np.random.rand(1024,3)\n",
    "complete = np.random.rand(16384,3)\n",
    "\n",
    "partial_cn = rotate_points_along_z((partial - gtbox[:3])[np.newaxis, :, :], np.array([-gtbox[-1]]))[0]\n",
    "complete_cn = rotate_points_along_z((complete - gtbox[:3])[np.newaxis, :, :], np.array([-gtbox[-1]]))[0]\n",
    "\n",
    "noise_scale = np.random.uniform(0.7, 1, 3)    \n",
    "partial_cn[:,:3] *= noise_scale\n",
    "complete_cn[:,:3] *= noise_scale\n",
    "gtbox[3:6] *= noise_scale\n",
    "\n",
    "# Transform back to view-centric frame\n",
    "p = rotate_points_along_z(partial_cn[np.newaxis, :, :], np.array([gtbox[-1]]))[0] + gtbox[:3]\n",
    "c = rotate_points_along_z(complete_cn[np.newaxis, :, :], np.array([gtbox[-1]]))[0] + gtbox[:3]\n"
   ]
  },
  {
   "cell_type": "code",
   "execution_count": 31,
   "id": "9e5cd45f",
   "metadata": {},
   "outputs": [
    {
     "data": {
      "text/plain": [
       "array([[[1.2513878 , 1.2162952 , 1.1819357 ],\n",
       "        [0.6090073 , 0.9188445 , 1.0006177 ],\n",
       "        [0.7022839 , 0.83695686, 0.9074545 ],\n",
       "        ...,\n",
       "        [0.9824947 , 1.7000049 , 1.1866556 ],\n",
       "        [1.0908313 , 1.2706375 , 1.2933723 ],\n",
       "        [0.55828077, 1.5947784 , 1.0871577 ]]], dtype=float32)"
      ]
     },
     "execution_count": 31,
     "metadata": {},
     "output_type": "execute_result"
    }
   ],
   "source": [
    "def vc_to_cn(points, gt_label):\n",
    "    \"\"\"\n",
    "    Transform the given points from view-centric to canonical frame\n",
    "\n",
    "    For view-centric to canonical, use -angle\n",
    "    For canonical to view-centric, use +angle\n",
    "\n",
    "    Args:\n",
    "        points: (B, N, 3 + C)\n",
    "        gt_label: (B, 7), angle along z-axis, angle increases x ==> y\n",
    "    \"\"\"\n",
    "    points, is_numpy = check_numpy_to_torch(points)\n",
    "    gt_label, _ = check_numpy_to_torch(gt_label)\n",
    "\n",
    "    centre = gt_label[:,:3]\n",
    "    centre_points = points - centre\n",
    "    points_cn = rotate_points_along_z(centre_points, -gt_label[:,-1])\n",
    "\n",
    "    return points_cn.numpy() if is_numpy else points_cn\n",
    "\n",
    "def vc_to_cn(points, gt_label):\n",
    "    \"\"\"\n",
    "    Transform the given points from canonical frame to view-centric\n",
    "\n",
    "    For view-centric to canonical, use -angle\n",
    "    For canonical to view-centric, use +angle\n",
    "\n",
    "    Args:\n",
    "        points: (B, N, 3 + C)\n",
    "        gt_label: (B, 7), angle along z-axis, angle increases x ==> y\n",
    "    \"\"\"\n",
    "    points, is_numpy = check_numpy_to_torch(points)\n",
    "    gt_label, _ = check_numpy_to_torch(gt_label)\n",
    "\n",
    "    centre = gt_label[:,:3]    \n",
    "    points_rot = rotate_points_along_z(points, gt_label[:,-1])\n",
    "    points_vc = points + centre\n",
    "\n",
    "    return points_vc.numpy() if is_numpy else points_vc\n",
    "\n",
    "gt_label = np.random.rand(7)[np.newaxis, :]\n",
    "partial = np.random.rand(1024,3)[np.newaxis, :]\n",
    "vc_to_cn(partial, gt_label)\n",
    "\n"
   ]
  },
  {
   "cell_type": "code",
   "execution_count": 35,
   "id": "ae1d3223",
   "metadata": {},
   "outputs": [
    {
     "name": "stdout",
     "output_type": "stream",
     "text": [
      "not\n"
     ]
    },
    {
     "ename": "AssertionError",
     "evalue": "None",
     "output_type": "error",
     "traceback": [
      "\u001b[0;31m---------------------------------------------------------------------------\u001b[0m",
      "\u001b[0;31mAssertionError\u001b[0m                            Traceback (most recent call last)",
      "\u001b[0;32m/tmp/ipykernel_2461/4120801301.py\u001b[0m in \u001b[0;36m<module>\u001b[0;34m\u001b[0m\n\u001b[1;32m      1\u001b[0m \u001b[0mgt_label\u001b[0m \u001b[0;34m=\u001b[0m \u001b[0mnp\u001b[0m\u001b[0;34m.\u001b[0m\u001b[0mrandom\u001b[0m\u001b[0;34m.\u001b[0m\u001b[0mrand\u001b[0m\u001b[0;34m(\u001b[0m\u001b[0;36m7\u001b[0m\u001b[0;34m)\u001b[0m\u001b[0;34m\u001b[0m\u001b[0;34m\u001b[0m\u001b[0m\n\u001b[0;32m----> 2\u001b[0;31m \u001b[0;32massert\u001b[0m \u001b[0mgt_label\u001b[0m\u001b[0;34m.\u001b[0m\u001b[0mshape\u001b[0m \u001b[0;34m==\u001b[0m \u001b[0;34m(\u001b[0m\u001b[0;36m1\u001b[0m\u001b[0;34m,\u001b[0m\u001b[0;36m7\u001b[0m\u001b[0;34m)\u001b[0m\u001b[0;34m,\u001b[0m \u001b[0mprint\u001b[0m\u001b[0;34m(\u001b[0m\u001b[0;34m'not'\u001b[0m\u001b[0;34m)\u001b[0m\u001b[0;34m\u001b[0m\u001b[0;34m\u001b[0m\u001b[0m\n\u001b[0m",
      "\u001b[0;31mAssertionError\u001b[0m: None"
     ]
    }
   ],
   "source": [
    "gt_label = np.random.rand(7)\n",
    "assert gt_label.shape == (1,7), print('not')"
   ]
  },
  {
   "cell_type": "code",
   "execution_count": 12,
   "id": "3a67ee32",
   "metadata": {},
   "outputs": [],
   "source": [
    "_,_,data = dataset.__getitem__(6)\n",
    "\n",
    "pts = data[0].cpu().numpy()\n",
    "gpts = data[1].cpu().numpy()\n",
    "gtbox = data[2]['gtbox']\n",
    "boxpts = opd_to_boxpts(gtbox)\n",
    "o3dgtbox = boxpts_to_o3dbox(boxpts, [1,0.9,0])\n",
    "\n",
    "o3d.visualization.draw_geometries([convert_to_o3dpcd(pts), convert_to_o3dpcd(gpts, [0.9,0.9,0.9]), o3dgtbox])"
   ]
  },
  {
   "cell_type": "code",
   "execution_count": 44,
   "id": "e6d83599",
   "metadata": {},
   "outputs": [
    {
     "name": "stdout",
     "output_type": "stream",
     "text": [
      "tensor([[ 2.1170,  1.7164,  0.1227],\n",
      "        [ 2.1340,  1.7229,  0.0981],\n",
      "        [ 2.1294,  1.6747,  0.0923],\n",
      "        ...,\n",
      "        [ 1.1036,  3.0881, -0.1043],\n",
      "        [ 1.1691,  3.0742, -0.0870],\n",
      "        [ 1.1512,  3.0886, -0.1043]])\n",
      "tensor([[ 1.9035,  1.5433,  0.1103],\n",
      "        [ 1.9187,  1.5491,  0.0882],\n",
      "        [ 1.9146,  1.5058,  0.0830],\n",
      "        ...,\n",
      "        [ 0.9922,  2.7766, -0.0938],\n",
      "        [ 1.0511,  2.7641, -0.0782],\n",
      "        [ 1.0351,  2.7771, -0.0938]])\n"
     ]
    }
   ],
   "source": [
    "norm_pts = rotate_points_along_z((pts - gtbox[:,:3]).unsqueeze(0), -gtbox[:,-1]).squeeze(0)\n",
    "print(norm_pts)\n",
    "norm_pts[:,:3] *= noise_scale\n",
    "print(norm_pts)"
   ]
  },
  {
   "cell_type": "code",
   "execution_count": 18,
   "id": "5b6f4a84",
   "metadata": {},
   "outputs": [],
   "source": [
    "_,_,data = dataset.__getitem__(37)\n",
    "\n",
    "pts = data[1].cpu()\n",
    "\n",
    "# gpts = data[1].cpu()\n",
    "gtbox = torch.from_numpy(data[2]['gtbox']).float().unsqueeze(0)\n",
    "norm_pts = rotate_points_along_z((pts - gtbox[:,:3]).unsqueeze(0), -gtbox[:,-1]).squeeze(0)\n",
    "\n",
    "noise_scale = np.random.uniform(0.75, 1.1, 3)   \n",
    "aug_pts = norm_pts.clone()\n",
    "aug_pts[:,:3] *= noise_scale\n",
    "\n",
    "origin_frame = o3d.geometry.TriangleMesh.create_coordinate_frame(size=0.5, origin=[0,0,0])\n",
    "o3d.visualization.draw_geometries([convert_to_o3dpcd(norm_pts, [1,1,0]), convert_to_o3dpcd(aug_pts, [1,0,0]), origin_frame])"
   ]
  },
  {
   "cell_type": "code",
   "execution_count": 19,
   "id": "bed3faf1",
   "metadata": {},
   "outputs": [
    {
     "name": "stdout",
     "output_type": "stream",
     "text": [
      "tensor([-25.6106,  12.1614,  -1.6205])\n",
      "tensor([ 0.1252, -0.0099,  0.0460])\n",
      "[0.8973763  0.86145016 1.07060234]\n",
      "tensor([ 0.1124, -0.0086,  0.0493])\n",
      "tensor([[-25.7084,  12.2402,  -1.6665,   3.4060,   1.8033,   1.4007,  -0.5987]])\n",
      "tensor([[-25.7084,  12.2402,  -1.6665,   3.0565,   1.5535,   1.4996,  -0.5987]])\n",
      "tensor([-25.6205,  12.1698,  -1.6172])\n"
     ]
    }
   ],
   "source": [
    "_,_,data = dataset.__getitem__(0)\n",
    "\n",
    "pts = data[1].cpu()\n",
    "print(pts.mean(dim=0))\n",
    "\n",
    "# gpts = data[1].cpu()\n",
    "gtbox = torch.from_numpy(data[2]['gtbox']).float().unsqueeze(0)\n",
    "norm_pts = rotate_points_along_z((pts - gtbox[:,:3]).unsqueeze(0), -gtbox[:,-1]).squeeze(0)\n",
    "\n",
    "print(norm_pts.mean(dim=0))\n",
    "noise_scale = np.random.uniform(0.75, 1.1, 3)   \n",
    "print(noise_scale)\n",
    "norm_pts[:,:3] *= noise_scale\n",
    "print(norm_pts.mean(dim=0))\n",
    "\n",
    "vc_pts = rotate_points_along_z(norm_pts.unsqueeze(0), gtbox[:,-1]).squeeze(0) + gtbox[:,:3]\n",
    "augbox = gtbox.clone()\n",
    "augbox[:,3:6] *= noise_scale\n",
    "print(gtbox)\n",
    "print(augbox)\n",
    "print(vc_pts.mean(dim=0))\n",
    "\n",
    "# Viz\n",
    "boxpts = opd_to_boxpts(gtbox.squeeze(0).cpu().numpy())\n",
    "o3dgtbox = boxpts_to_o3dbox(boxpts, [1,0.9,0])\n",
    "\n",
    "boxpts = opd_to_boxpts(augbox.squeeze(0).cpu().numpy())\n",
    "o3daugbox = boxpts_to_o3dbox(boxpts, [1,0,0])\n",
    "o3d.visualization.draw_geometries([o3dgtbox, o3daugbox, convert_to_o3dpcd(vc_pts, [1,0,0]), convert_to_o3dpcd(pts.numpy(), [1,0.9,0])])"
   ]
  },
  {
   "cell_type": "code",
   "execution_count": 13,
   "id": "e4f4fc69",
   "metadata": {},
   "outputs": [
    {
     "name": "stdout",
     "output_type": "stream",
     "text": [
      "[0.98511624 0.84017119 0.81044928]\n"
     ]
    }
   ],
   "source": [
    "# _,_,data = dataset.__getitem__(12)\n",
    "\n",
    "# pts = data[0].cpu()\n",
    "# gtbox = torch.from_numpy(data[2]['gtbox']).float().unsqueeze(0)\n",
    "# gtbox_norm = gtbox.clone()\n",
    "# gtbox_norm[:,:3] = 0\n",
    "# gtbox_norm[:,-1] = 0\n",
    "# boxpts = opd_to_boxpts(gtbox_norm.squeeze(0).cpu().numpy())\n",
    "# o3dgtbox = boxpts_to_o3dbox(boxpts, [0,1,1])\n",
    "\n",
    "# norm_pts = rotate_points_along_z((pts - gtbox[:,:3]).unsqueeze(0), -gtbox[:,-1])\n",
    "# in_pcd = convert_to_o3dpcd(norm_pts.squeeze(0).cpu().numpy())\n",
    "# in_pcd.paint_uniform_color([0.9,0.9,0.9])\n",
    "\n",
    "# s = np.random.uniform(0.75,1.05, 3)\n",
    "# print(s)\n",
    "# augpts = norm_pts.clone().squeeze(0).cpu().numpy()\n",
    "# augpts[:,0] *= s[0]\n",
    "# augpts[:,1] *= s[1]\n",
    "# augpts[:,2] *= s[2]\n",
    "# aug_pcd = convert_to_o3dpcd(augpts)\n",
    "# aug_box = boxpts.copy()\n",
    "# aug_box[:,0] *= s[0]\n",
    "# aug_box[:,1] *= s[1]\n",
    "# aug_box[:,2] *= s[2]\n",
    "# o3daug_box = boxpts_to_o3dbox(aug_box, [1,0,0])\n",
    "\n",
    "# origin_frame = o3d.geometry.TriangleMesh.create_coordinate_frame(size=0.5, origin=[0,0,0])\n",
    "# o3d.visualization.draw_geometries([in_pcd, aug_pcd, o3daug_box, o3dgtbox, origin_frame])"
   ]
  },
  {
   "cell_type": "code",
   "execution_count": 8,
   "id": "d15b5343",
   "metadata": {},
   "outputs": [],
   "source": [
    "origin_frame = o3d.geometry.TriangleMesh.create_coordinate_frame(size=0.5, origin=[0,0,0])\n",
    "o3d.visualization.draw_geometries([in_pcd, aug_pcd, o3dgtbox, origin_frame])"
   ]
  },
  {
   "cell_type": "code",
   "execution_count": 77,
   "id": "cf2e0b7e",
   "metadata": {},
   "outputs": [
    {
     "name": "stdout",
     "output_type": "stream",
     "text": [
      "2.0076405819205165\n"
     ]
    }
   ],
   "source": [
    "_,_,data = dataset.__getitem__(10)\n",
    "\n",
    "pts = data[0].cpu().numpy()\n",
    "gtbox = np.array(data[2]['gtbox'])\n",
    "boxpts = opd_to_boxpts(data[2]['gtbox'])\n",
    "o3dbox = boxpts_to_o3dbox(boxpts, [0,1,1])\n",
    "in_pcd = convert_to_o3dpcd(pts)\n",
    "in_pcd.paint_uniform_color([0.9,0.9,0.9])\n",
    "\n",
    "augpts, augbox = GlobalScaling(pts, gtbox)\n",
    "\n",
    "aug_pcd = convert_to_o3dpcd(augpts)\n",
    "boxpts = opd_to_boxpts(augbox)\n",
    "aug_o3dbox = boxpts_to_o3dbox(boxpts)\n",
    "\n",
    "o3d.visualization.draw_geometries([in_pcd, o3dbox, aug_pcd, aug_o3dbox, origin_frame])"
   ]
  },
  {
   "cell_type": "code",
   "execution_count": 51,
   "id": "b0e829fe",
   "metadata": {},
   "outputs": [
    {
     "data": {
      "text/plain": [
       "array([4.12440401, 1.91832252, 1.18397709])"
      ]
     },
     "execution_count": 51,
     "metadata": {},
     "output_type": "execute_result"
    }
   ],
   "source": [
    "aug_o3dbox.extent"
   ]
  },
  {
   "cell_type": "code",
   "execution_count": 50,
   "id": "a817b657",
   "metadata": {},
   "outputs": [
    {
     "data": {
      "text/plain": [
       "array([4.40466591, 2.04867655, 1.26443081])"
      ]
     },
     "execution_count": 50,
     "metadata": {},
     "output_type": "execute_result"
    }
   ],
   "source": [
    "o3dbox.extent"
   ]
  },
  {
   "cell_type": "code",
   "execution_count": 34,
   "id": "ca705f80",
   "metadata": {},
   "outputs": [],
   "source": [
    "_,_,data = dataset.__getitem__(0)\n",
    "\n",
    "in_pcd = convert_to_o3dpcd(pts)\n",
    "in_pcd.paint_uniform_color([0.9,0.9,0.9])\n",
    "boxpts = opd_to_boxpts(data[2]['gtbox'])\n",
    "o3dbox = boxpts_to_o3dbox(boxpts)\n",
    "\n",
    "o3d.visualization.draw_geometries([in_pcd, o3dbox])"
   ]
  },
  {
   "cell_type": "code",
   "execution_count": 123,
   "id": "6564ec64",
   "metadata": {},
   "outputs": [],
   "source": [
    "gt_boxes = data[2]['gtbox']\n",
    "points = data[0]\n",
    "fgtbox, fpoints = RandomFlipAlongY(gt_boxes, points)\n",
    "\n",
    "in_pcd2 = convert_to_o3dpcd(fpoints)\n",
    "boxpts = opd_to_boxpts(fgtbox)\n",
    "o3dbox2 = boxpts_to_o3dbox(boxpts)\n",
    "\n",
    "o3d.visualization.draw_geometries([in_pcd, o3dbox, in_pcd2, o3dbox2])"
   ]
  },
  {
   "cell_type": "code",
   "execution_count": 23,
   "id": "bf12fdaa",
   "metadata": {},
   "outputs": [
    {
     "data": {
      "text/plain": [
       "0.2"
      ]
     },
     "execution_count": 23,
     "metadata": {},
     "output_type": "execute_result"
    }
   ],
   "source": [
    "\n",
    "loss_dict.get('he', 0.2)"
   ]
  },
  {
   "cell_type": "code",
   "execution_count": 21,
   "id": "80b9b325",
   "metadata": {},
   "outputs": [
    {
     "data": {
      "text/plain": [
       "tensor(1.9728, device='cuda:0', grad_fn=<MeanBackward0>)"
      ]
     },
     "execution_count": 21,
     "metadata": {},
     "output_type": "execute_result"
    }
   ],
   "source": [
    "loss_dict['dims']"
   ]
  },
  {
   "cell_type": "code",
   "execution_count": 30,
   "id": "652fd88d",
   "metadata": {},
   "outputs": [
    {
     "data": {
      "text/plain": [
       "<matplotlib.collections.PathCollection at 0x7f8e26cd1550>"
      ]
     },
     "execution_count": 30,
     "metadata": {},
     "output_type": "execute_result"
    },
    {
     "data": {
      "image/png": "[encoded data removed]",
      "text/plain": [
       "<Figure size 432x288 with 1 Axes>"
      ]
     },
     "metadata": {
      "needs_background": "light"
     },
     "output_type": "display_data"
    }
   ],
   "source": [
    "pred1 = np.array([0.0 for i in range(250)])\n",
    "pred2 = np.linspace(0,2*np.pi, 250)\n",
    "cos1 = np.cos(pred1)\n",
    "cos2 = np.cos(pred2)\n",
    "plt.scatter(pred2, abs(cos1-cos2))"
   ]
  },
  {
   "cell_type": "code",
   "execution_count": 317,
   "id": "aef52140",
   "metadata": {},
   "outputs": [
    {
     "data": {
      "text/plain": [
       "0.007998443909987829"
      ]
     },
     "execution_count": 317,
     "metadata": {},
     "output_type": "execute_result"
    }
   ],
   "source": [
    "heading_err = -1.7499 - 1.5708\n",
    "cos_sim = (1.0 + np.cos(heading_err))/2.0\n",
    "cos_sim"
   ]
  },
  {
   "cell_type": "code",
   "execution_count": 315,
   "id": "5cbe3da6",
   "metadata": {},
   "outputs": [
    {
     "data": {
      "text/plain": [
       "<matplotlib.collections.PathCollection at 0x7f99bed5bd10>"
      ]
     },
     "execution_count": 315,
     "metadata": {},
     "output_type": "execute_result"
    },
    {
     "data": {
      "image/png": "[encoded data removed]",
      "text/plain": [
       "<Figure size 432x288 with 1 Axes>"
      ]
     },
     "metadata": {
      "needs_background": "light"
     },
     "output_type": "display_data"
    }
   ],
   "source": [
    "heading_err = pred1 - pred2\n",
    "cos_sim = (1.0 + np.cos(heading_err))/2.0\n",
    "plt.scatter(pred2, cos_sim)"
   ]
  },
  {
   "cell_type": "code",
   "execution_count": 313,
   "id": "71899663",
   "metadata": {},
   "outputs": [
    {
     "data": {
      "text/plain": [
       "<matplotlib.collections.PathCollection at 0x7f99bedce850>"
      ]
     },
     "execution_count": 313,
     "metadata": {},
     "output_type": "execute_result"
    },
    {
     "data": {
      "image/png": "[encoded data removed]",
      "text/plain": [
       "<Figure size 432x288 with 1 Axes>"
      ]
     },
     "metadata": {
      "needs_background": "light"
     },
     "output_type": "display_data"
    }
   ],
   "source": [
    "torchloss = nn.MSELoss(reduction='none')\n",
    "l1loss = torchloss(torch.from_numpy(cos1), torch.from_numpy(cos2))\n",
    "plt.scatter(pred2, l1loss)"
   ]
  },
  {
   "cell_type": "markdown",
   "id": "1edcc0be",
   "metadata": {},
   "source": [
    "# PCNSSC"
   ]
  },
  {
   "cell_type": "code",
   "execution_count": 4,
   "id": "61eeeb27",
   "metadata": {},
   "outputs": [],
   "source": [
    "import torch\n",
    "import torch.nn as nn\n",
    "import numpy as np\n",
    "from extensions.chamfer_dist import ChamferDistanceL2\n",
    "    \n",
    "def mlp_conv(in_channels, layer_dims, bn=None, bn_params=None):\n",
    "    layers = []\n",
    "    for i, out_channel in enumerate(layer_dims[:-1]):\n",
    "        layers += [nn.Conv1d(in_channels, out_channel, kernel_size=1)]\n",
    "        in_channels = out_channel\n",
    "\n",
    "    layers += [nn.Conv1d(in_channels, layer_dims[-1], kernel_size=1)]\n",
    "    mlp_block = nn.Sequential(*layers)\n",
    "    \n",
    "    return nn.Sequential(*layers)\n",
    "\n",
    "class PCNencoder(nn.Module):\n",
    "    def __init__(self):\n",
    "        super(PCNencoder, self).__init__()\n",
    "        self.mlp_conv1 = nn.Sequential(\n",
    "            nn.Conv1d(3,128,1),\n",
    "            nn.BatchNorm1d(128),\n",
    "            nn.ReLU(inplace=True),\n",
    "            nn.Conv1d(128,256,1)\n",
    "        )\n",
    "        self.mlp_conv2 = nn.Sequential(\n",
    "            nn.Conv1d(512,512,1),\n",
    "            nn.BatchNorm1d(512),\n",
    "            nn.ReLU(inplace=True),\n",
    "            nn.Conv1d(512,1024,1)\n",
    "        )\n",
    "        \n",
    "    def point_maxpool(self, inputs, npts, keepdims):\n",
    "        # Max pool to get a 256 feature vec for the whole object \n",
    "        # [(1,256,1),(1,256,1),...] of len=batchsize\n",
    "        outputs = [torch.max(f, dim=2, keepdim=keepdims)[0] for f in torch.split(inputs, npts, dim=2)]\n",
    "        return torch.cat(outputs, dim=0)\n",
    "    \n",
    "    def point_unpool(self, inputs, npts):\n",
    "        # Assign same 256 features to all points in the original object pcd\n",
    "        # [(1,256,N1),(1,256,N2),...] of len=batchsize\n",
    "        outputs = [torch.tile(f, [1, 1, npts[i]]) for i,f in enumerate(inputs)]\n",
    "\n",
    "        return torch.cat(outputs, dim=2)\n",
    "\n",
    "    def forward(self, x, npts_per_id):\n",
    "        # Pytorch is (B,C,N) format\n",
    "        # input is (1,3,sum(Ni->b)), Ni refers to the specific num pts in an object\n",
    "        print(x.shape)\n",
    "        mlp_feat = self.mlp_conv1(x) # 1 256 N\n",
    "        print(mlp_feat.shape)\n",
    "        symmetric_feat = self.point_maxpool(mlp_feat, npts_per_id, keepdims=True)  # [(1,256,1),(1,256,1),...] of len=B\n",
    "        symmetric_feat = self.point_unpool(symmetric_feat, npts_per_id)  # (1,256,sum(Ni->b)) \n",
    "        \n",
    "        # Concatenate global (symmetric) and point (mlp) features\n",
    "        features = torch.cat([mlp_feat, symmetric_feat], dim=1)\n",
    "\n",
    "        # Process the combined features\n",
    "        combined_feat = self.mlp_conv2(features)  # (1,1024,sum(Ni->b))\n",
    "        combined_feat = self.point_maxpool(combined_feat, npts_per_id, keepdims=False)  # (B,1024,1)\n",
    "        # 1 global 1024-feature vector per object (i.e. 1024 channels)\n",
    "        return combined_feat\n",
    "\n",
    "class PCNdecoder(nn.Module):\n",
    "    def __init__(self):\n",
    "        super(PCNdecoder, self).__init__()\n",
    "        self.grid_scale = 0.05\n",
    "        self.grid_size = 4\n",
    "        self.num_coarse = 1024\n",
    "        self.num_fine = self.grid_size ** 2 * self.num_coarse\n",
    "        self.mlp = nn.Sequential(\n",
    "            nn.Linear(self.num_coarse,1024),\n",
    "            nn.ReLU(inplace=True),\n",
    "            nn.Linear(1024,1024),\n",
    "            nn.ReLU(inplace=True),\n",
    "            nn.Linear(1024,3*self.num_coarse)\n",
    "        )\n",
    "        self.final_conv = nn.Sequential(\n",
    "            nn.Conv1d(1024+3+2,512,1),\n",
    "            nn.BatchNorm1d(512),\n",
    "            nn.ReLU(inplace=True),\n",
    "            nn.Conv1d(512,512,1),\n",
    "            nn.BatchNorm1d(512),\n",
    "            nn.ReLU(inplace=True),\n",
    "            nn.Conv1d(512,3,1)\n",
    "        )\n",
    "    def forward(self, x):\n",
    "\n",
    "        # Coarse completion\n",
    "        coarse = self.mlp(x) # (B,num_coarse*3)\n",
    "        coarse = coarse.reshape([-1, 3, self.num_coarse]) # We set num_coarse*3 above so that we can bring it back to 3 channels\n",
    "        \n",
    "        # --- Fine completion ---\n",
    "        # 2D grid u x u for each coarse point\n",
    "        u = torch.linspace(start=-self.grid_scale, end=self.grid_scale, steps=self.grid_size).cuda() # create 4x4 grid\n",
    "        grid = torch.meshgrid(u,u) # (4,4) and (4,4)\n",
    "        grid = torch.unsqueeze(torch.reshape(torch.stack(grid, dim=2), (2,-1)),0) # (1,16,2)\n",
    "        folding_seed = torch.tile(grid, [x.shape[0], 1, self.num_coarse]) # grid*num_coarse\n",
    "        \n",
    "        point_feat = torch.tile(torch.unsqueeze(coarse, 2), [1, 1, self.grid_size **2, 1])\n",
    "        point_feat = point_feat.reshape([-1, 3, self.num_fine])\n",
    "        \n",
    "        global_feat = torch.tile(x.unsqueeze(2), [1, 1, self.num_fine])\n",
    "        feat = torch.cat([folding_seed, point_feat, global_feat], dim=1)\n",
    "        center = torch.tile(torch.unsqueeze(coarse, 2), [1, 1, self.grid_size ** 2, 1])\n",
    "        center = center.reshape([-1, 3, self.num_fine])\n",
    "        \n",
    "        fine = self.final_conv(feat) + center\n",
    "\n",
    "        return coarse, fine\n",
    "\n",
    "class PCNSSC(nn.Module):\n",
    "    def __init__(self):\n",
    "        super().__init__()\n",
    "        self.encoder = PCNencoder()\n",
    "        self.decoder = PCNdecoder()\n",
    "        self.build_loss_func()\n",
    "\n",
    "    def build_loss_func(self):\n",
    "        self.loss_func = ChamferDistanceL2()\n",
    "\n",
    "    def get_loss(self, ret, gt):\n",
    "        gt_ds = gt[:, :ret[0].shape[1], :] # random downsample\n",
    "        loss_coarse = self.loss_func(ret[0], gt_ds)\n",
    "        loss_fine = self.loss_func(ret[1], gt)\n",
    "        return loss_coarse, loss_fine\n",
    "            \n",
    "    def forward(self, x, npts):\n",
    "        x = x.permute(0,2,1)\n",
    "        encoded_feats = self.encoder(x, npts)\n",
    "        coarse, fine = self.decoder(encoded_feats)\n",
    "        return (coarse.transpose(1,2).contiguous(), fine.transpose(1,2).contiguous())"
   ]
  },
  {
   "cell_type": "code",
   "execution_count": 5,
   "id": "9847e15d",
   "metadata": {},
   "outputs": [
    {
     "name": "stderr",
     "output_type": "stream",
     "text": [
      "2022-03-31 04:26:12,473 - VC_DATASET - INFO - Complete collecting files for train. Total views: 3200\n"
     ]
    },
    {
     "name": "stdout",
     "output_type": "stream",
     "text": [
      "torch.Size([1, 3, 4096])\n",
      "torch.Size([1, 256, 4096])\n"
     ]
    }
   ],
   "source": [
    "import torch\n",
    "from utils.misc import *\n",
    "dataset = build_dataset_from_cfg(config.dataset.train._base_, config.dataset.train.others)\n",
    "shuffle = config.dataset.train.others.subset == 'train'\n",
    "sampler = None\n",
    "dataloader = torch.utils.data.DataLoader(dataset, batch_size=2,\n",
    "                                        shuffle = shuffle, \n",
    "                                        drop_last = config.dataset.train.others.subset == 'train',\n",
    "                                        num_workers = 4,\n",
    "                                        worker_init_fn=worker_init_fn,\n",
    "                                        collate_fn=collate_variable_input)\n",
    "\n",
    "model = PCNSSC()\n",
    "device = torch.device(\"cuda:0\" if torch.cuda.is_available() else \"cpu\")\n",
    "model = model.to(device, dtype=torch.float)\n",
    "\n",
    "_, model_ids, data = next(iter(dataloader))\n",
    "partial = data[0].to(device, dtype=torch.float)\n",
    "complete = data[1].to(device, dtype=torch.float)\n",
    "out = model(partial, data[2]['num_pts'])"
   ]
  }
 ],
 "metadata": {
  "kernelspec": {
   "display_name": "Python 3 (ipykernel)",
   "language": "python",
   "name": "python3"
  },
  "language_info": {
   "codemirror_mode": {
    "name": "ipython",
    "version": 3
   },
   "file_extension": ".py",
   "mimetype": "text/x-python",
   "name": "python",
   "nbconvert_exporter": "python",
   "pygments_lexer": "ipython3",
   "version": "3.7.10"
  }
 },
 "nbformat": 4,
 "nbformat_minor": 5
}
