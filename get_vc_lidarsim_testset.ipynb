{
 "cells": [
  {
   "cell_type": "code",
   "execution_count": 1,
   "id": "be93b39c",
   "metadata": {},
   "outputs": [
    {
     "name": "stdout",
     "output_type": "stream",
     "text": [
      "Jupyter environment detected. Enabling Open3D WebVisualizer.\n",
      "[Open3D INFO] WebRTC GUI backend enabled.\n",
      "[Open3D INFO] WebRTCWindowSystem: HTTP handshake server disabled.\n"
     ]
    }
   ],
   "source": [
    "from utils.sampling import *\n",
    "from utils.config import cfg_from_yaml_file\n",
    "from tools import builder\n",
    "from datasets.data_transforms import ResamplePoints, LidarSimulation\n",
    "from datasets import build_dataset_from_cfg\n",
    "import open3d as o3d\n",
    "import numpy as np\n",
    "import glob\n",
    "from utils.vis_utils import convert_to_o3dpcd"
   ]
  },
  {
   "cell_type": "code",
   "execution_count": 10,
   "id": "b5b35f13",
   "metadata": {},
   "outputs": [],
   "source": [
    "from pathlib import Path\n",
    "import pickle\n",
    "\n",
    "data_dir = Path('/VCN/data/shapenet/VC/vc-surface_nviews-20/val')\n",
    "modelid_path = data_dir / 'model_ids.txt'\n",
    "\n",
    "with open(modelid_path, 'r') as f:\n",
    "    model_ids = [line.split('\\n')[0] for line in f.readlines()]\n",
    "\n",
    "partial_points_path = str(data_dir / 'partial' / '%s' / '%03d.pcd')\n",
    "surface_points_path = str(data_dir / 'surface' / '%s' / '%03d.pcd')\n",
    "label_path = str(data_dir / 'label.pkl')\n",
    "\n",
    "with open(label_path, 'rb') as f:\n",
    "    label = pickle.load(f)"
   ]
  },
  {
   "cell_type": "code",
   "execution_count": 99,
   "id": "7a8febca",
   "metadata": {},
   "outputs": [
    {
     "name": "stderr",
     "output_type": "stream",
     "text": [
      " 98%|████████████████████████████████████████████ | 333/340 [00:23<00:00, 13.97it/s]\n"
     ]
    }
   ],
   "source": [
    "from tqdm import tqdm \n",
    "\n",
    "lidarsim = LidarSimulation({})\n",
    "\n",
    "dataset_size = 2000\n",
    "data_dir = Path('/VCN/data/shapenet/VC/vc-surface_nviews-20/test')\n",
    "partial_dir = Path('/VCN/data/shapenet/VC/vc-surface_nviews-20/test/partial')\n",
    "surface_dir = Path('/VCN/data/shapenet/VC/vc-surface_nviews-20/test/surface')\n",
    "num_exported = 0\n",
    "\n",
    "new_labels = {}\n",
    "for i in tqdm(range(len(model_ids)), total=len(model_ids)):\n",
    "    \n",
    "    m_id = model_ids[i]  \n",
    "    new_labels[m_id] = {}\n",
    "    \n",
    "    view_ids = np.random.default_rng().choice(20, size=6, replace=False)\n",
    "    for v_id in view_ids:             \n",
    "        partial_path = partial_points_path % (m_id, v_id)\n",
    "        surface_path = surface_points_path % (m_id, v_id)\n",
    "\n",
    "        pcd = o3d.io.read_point_cloud(partial_path)\n",
    "        pc_np = np.asarray(pcd.points)\n",
    "        pc_np_sim = lidarsim(pc_np)\n",
    "        partial_pc_path = partial_dir / m_id\n",
    "        partial_pc_path.mkdir(exist_ok=True, parents=True)        \n",
    "        o3d.io.write_point_cloud(str(partial_pc_path / f'{v_id:03d}.pcd'), convert_to_o3dpcd(pc_np_sim))\n",
    "        \n",
    "        surface_pcd = o3d.io.read_point_cloud(surface_path)\n",
    "        surface_pc_path = surface_dir / m_id\n",
    "        surface_pc_path.mkdir(exist_ok=True, parents=True) \n",
    "        o3d.io.write_point_cloud(str(surface_pc_path / f'{v_id:03d}.pcd'), surface_pcd)\n",
    "        \n",
    "        new_labels[m_id][v_id] = label[m_id][v_id]\n",
    "        new_labels[m_id][v_id]['num_pts'] = pc_np_sim.shape[0]        \n",
    "        num_exported += 1\n",
    "        \n",
    "        if num_exported >= dataset_size:\n",
    "            break\n",
    "            \n",
    "    if num_exported >= dataset_size:\n",
    "        break\n",
    "        \n",
    "with open(str(data_dir / 'label.pkl'), 'wb') as f:\n",
    "    pickle.dump(new_labels, f)"
   ]
  },
  {
   "cell_type": "code",
   "execution_count": 3,
   "id": "af729563",
   "metadata": {},
   "outputs": [],
   "source": [
    "pth = '/VCN/data/shapenet/VC/vc-surface_nviews-20/test/partial/1a3782ae4bd711b66b418c7d9fedcaa9/008.pcd'\n",
    "\n",
    "pcd = o3d.io.read_point_cloud(pth)"
   ]
  },
  {
   "cell_type": "code",
   "execution_count": 4,
   "id": "e22ebeac",
   "metadata": {},
   "outputs": [],
   "source": [
    "o3d.visualization.draw_geometries([pcd])"
   ]
  },
  {
   "cell_type": "code",
   "execution_count": null,
   "id": "53d1fd39",
   "metadata": {},
   "outputs": [],
   "source": []
  }
 ],
 "metadata": {
  "kernelspec": {
   "display_name": "Python 3 (ipykernel)",
   "language": "python",
   "name": "python3"
  },
  "language_info": {
   "codemirror_mode": {
    "name": "ipython",
    "version": 3
   },
   "file_extension": ".py",
   "mimetype": "text/x-python",
   "name": "python",
   "nbconvert_exporter": "python",
   "pygments_lexer": "ipython3",
   "version": "3.7.10"
  }
 },
 "nbformat": 4,
 "nbformat_minor": 5
}
